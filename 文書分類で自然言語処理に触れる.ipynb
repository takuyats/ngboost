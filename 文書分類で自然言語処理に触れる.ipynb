{
  "nbformat": 4,
  "nbformat_minor": 0,
  "metadata": {
    "colab": {
      "name": "文書分類で自然言語処理に触れる",
      "provenance": [],
      "toc_visible": true,
      "include_colab_link": true
    },
    "kernelspec": {
      "name": "python3",
      "display_name": "Python 3"
    }
  },
  "cells": [
    {
      "cell_type": "markdown",
      "metadata": {
        "id": "view-in-github",
        "colab_type": "text"
      },
      "source": [
        "<a href=\"https://colab.research.google.com/github/takuyats/ngboost/blob/master/%E6%96%87%E6%9B%B8%E5%88%86%E9%A1%9E%E3%81%A7%E8%87%AA%E7%84%B6%E8%A8%80%E8%AA%9E%E5%87%A6%E7%90%86%E3%81%AB%E8%A7%A6%E3%82%8C%E3%82%8B.ipynb\" target=\"_parent\"><img src=\"https://colab.research.google.com/assets/colab-badge.svg\" alt=\"Open In Colab\"/></a>"
      ]
    },
    {
      "cell_type": "markdown",
      "metadata": {
        "id": "9a9CUjgUXgB6",
        "colab_type": "text"
      },
      "source": [
        "# 文書分類で自然言語処理に触れる\n",
        "- 高橋寛治 [@kanji250tr](https://twitter.com/kanji250tr)\n",
        "- [スライド資料リンク](https://docs.google.com/presentation/d/e/2PACX-1vQHjfOTrH-xu49F6iINswP99AedOSgkYLlc4smMkkCi-GJ1WrA3CKAPr8epiRR8Cy4t021tP_6MWf7f/pub?start=false&loop=false&delayms=3000)"
      ]
    },
    {
      "cell_type": "markdown",
      "metadata": {
        "id": "IN2ubfIUYnhi",
        "colab_type": "text"
      },
      "source": [
        "## 概要\n",
        "本資料は、Pythonを用いて文書分類を行うことで、自然言語処理に触れることを目的としています。"
      ]
    },
    {
      "cell_type": "markdown",
      "metadata": {
        "id": "9OhMl2DTX_xE",
        "colab_type": "text"
      },
      "source": [
        "## 環境構築\n",
        "- 形態素解析器MeCabのインストール\n",
        "- livedoorニュースコーパスの入手"
      ]
    },
    {
      "cell_type": "markdown",
      "metadata": {
        "id": "UZWMRINHYwme",
        "colab_type": "text"
      },
      "source": [
        "### 形態素解析器のインストール"
      ]
    },
    {
      "cell_type": "code",
      "metadata": {
        "id": "Td5F61-PjZaS",
        "colab_type": "code",
        "colab": {}
      },
      "source": [
        "!apt-get -y install mecab libmecab-dev mecab-ipadic-utf8 > /dev/null\n",
        "!pip install mecab-python3 > /dev/null"
      ],
      "execution_count": 0,
      "outputs": []
    },
    {
      "cell_type": "markdown",
      "metadata": {
        "id": "AtfezSifYzt8",
        "colab_type": "text"
      },
      "source": [
        "### livedoorニュースコーパスの取得と整理\n",
        "wgetコマンドによりダウンロードしたものを展開する。\n",
        "\n",
        "README.txtを表示する。"
      ]
    },
    {
      "cell_type": "code",
      "metadata": {
        "id": "ZPRcRq8dw9Es",
        "colab_type": "code",
        "outputId": "8044f659-eff0-41b4-fd67-839282e0e1e8",
        "colab": {
          "base_uri": "https://localhost:8080/",
          "height": 204
        }
      },
      "source": [
        "!wget https://www.rondhuit.com/download/ldcc-20140209.tar.gz"
      ],
      "execution_count": 0,
      "outputs": [
        {
          "output_type": "stream",
          "text": [
            "--2018-07-31 11:09:58--  https://www.rondhuit.com/download/ldcc-20140209.tar.gz\r\n",
            "Resolving www.rondhuit.com (www.rondhuit.com)... 59.106.19.174\n",
            "Connecting to www.rondhuit.com (www.rondhuit.com)|59.106.19.174|:443... connected.\n",
            "HTTP request sent, awaiting response... 200 OK\n",
            "Length: 8855190 (8.4M) [application/x-gzip]\n",
            "Saving to: ‘ldcc-20140209.tar.gz.1’\n",
            "\n",
            "ldcc-20140209.tar.g 100%[===================>]   8.44M   558KB/s    in 11s     \n",
            "\n",
            "2018-07-31 11:10:10 (761 KB/s) - ‘ldcc-20140209.tar.gz.1’ saved [8855190/8855190]\n",
            "\n"
          ],
          "name": "stdout"
        }
      ]
    },
    {
      "cell_type": "code",
      "metadata": {
        "id": "VeHbHlL9xCbc",
        "colab_type": "code",
        "colab": {}
      },
      "source": [
        "!tar zxf ldcc-20140209.tar.gz > /dev/null"
      ],
      "execution_count": 0,
      "outputs": []
    },
    {
      "cell_type": "code",
      "metadata": {
        "id": "4vEStcjmxLkn",
        "colab_type": "code",
        "outputId": "ba1001b4-5fcd-42d4-abc2-833c1c6d819a",
        "colab": {
          "base_uri": "https://localhost:8080/",
          "height": 1088
        }
      },
      "source": [
        "!cat text/README.txt"
      ],
      "execution_count": 0,
      "outputs": [
        {
          "output_type": "stream",
          "text": [
            "livedoor ニュースコーパス\r\n",
            "\r\n",
            "\r\n",
            "概要\r\n",
            "-----------------\r\n",
            "本コーパスは、NHN Japan株式会社が運営する「livedoor ニュース」のうち、下記のクリエイティブ・コモンズ\r\n",
            "ライセンスが適用されるニュース記事を収集し、可能な限りHTMLタグを取り除いて作成したものです。\r\n",
            "\r\n",
            "- トピックニュース\r\n",
            "  http://news.livedoor.com/category/vender/news/\r\n",
            "- Sports Watch\r\n",
            "  http://news.livedoor.com/category/vender/208/\r\n",
            "- ITライフハック\r\n",
            "  http://news.livedoor.com/category/vender/223/\r\n",
            "- 家電チャンネル\r\n",
            "  http://news.livedoor.com/category/vender/kadench/\r\n",
            "- MOVIE ENTER\r\n",
            "  http://news.livedoor.com/category/vender/movie_enter/\r\n",
            "- 独女通信\r\n",
            "  http://news.livedoor.com/category/vender/90/\r\n",
            "- エスマックス\r\n",
            "  http://news.livedoor.com/category/vender/smax/\r\n",
            "- livedoor HOMME\r\n",
            "  http://news.livedoor.com/category/vender/homme/\r\n",
            "- Peachy\r\n",
            "  http://news.livedoor.com/category/vender/ldgirls/\r\n",
            "\r\n",
            "収集時期：2012年9月上旬\r\n",
            "\r\n",
            "\r\n",
            "ライセンス\r\n",
            "-----------------\r\n",
            "各記事ファイルにはクリエイティブ・コモンズライセンス「表示 - 改変禁止」\r\n",
            "（http://creativecommons.org/licenses/by-nd/2.1/jp/）が適用されます。\r\n",
            "クレジット表示についてはニュースカテゴリにより異なるため、サブディレクトリにある\r\n",
            "それぞれの LICENSE.txt をご覧ください。\r\n",
            "\r\n",
            "livedoor はNHN Japan株式会社の登録商標です。\r\n",
            "\r\n",
            "\r\n",
            "記事ファイルのフォーマット\r\n",
            "-----------------\r\n",
            "記事ファイルは以下のフォーマットにしたがって作成されています：\r\n",
            "\r\n",
            "１行目：記事のURL\r\n",
            "２行目：記事の日付\r\n",
            "３行目：記事のタイトル\r\n",
            "４行目以降：記事の本文\r\n",
            "\r\n",
            "\r\n",
            "管理者／連絡先\r\n",
            "-----------------\r\n",
            "本コーパスに関するお問い合わせは、記事を収集した下記会社宛にお願いいたします：\r\n",
            "\r\n",
            "株式会社ロンウイット\r\n",
            "http://www.rondhuit.com/\r\n",
            "メール：sales@rondhuit.com\r\n",
            "\r\n",
            "\r\n",
            "謝辞\r\n",
            "-----------------\r\n",
            "「livedoor ニュース」の一部をクリエイティブ・コモンズライセンスのもと公開してくださいました\r\n",
            "NHN Japan株式会社様に感謝いたします。\r\n"
          ],
          "name": "stdout"
        }
      ]
    },
    {
      "cell_type": "markdown",
      "metadata": {
        "id": "u3ksPgPpZPKP",
        "colab_type": "text"
      },
      "source": [
        "カテゴリとテキストが、どのようなディレクトリやファイルになっているかを確認する。"
      ]
    },
    {
      "cell_type": "code",
      "metadata": {
        "id": "_zQsRHuQZY24",
        "colab_type": "code",
        "outputId": "46016536-a55f-4589-fc26-8d4f36a9a193",
        "colab": {
          "base_uri": "https://localhost:8080/",
          "height": 68
        }
      },
      "source": [
        "!ls ./text"
      ],
      "execution_count": 0,
      "outputs": [
        {
          "output_type": "stream",
          "text": [
            "CHANGES.txt\tkaden-channel\tpeachy\t    sports-watch\r\n",
            "dokujo-tsushin\tlivedoor-homme\tREADME.txt  topic-news\r\n",
            "it-life-hack\tmovie-enter\tsmax\r\n"
          ],
          "name": "stdout"
        }
      ]
    },
    {
      "cell_type": "code",
      "metadata": {
        "id": "LS7Nvnbs1JoD",
        "colab_type": "code",
        "outputId": "a62014e8-6c4e-424d-ca11-dbbc1b38bebc",
        "colab": {
          "base_uri": "https://localhost:8080/",
          "height": 204
        }
      },
      "source": [
        "!ls ./text/sports-watch/ | head"
      ],
      "execution_count": 0,
      "outputs": [
        {
          "output_type": "stream",
          "text": [
            "LICENSE.txt\r\n",
            "sports-watch-4597641.txt\r\n",
            "sports-watch-4601248.txt\r\n",
            "sports-watch-4604621.txt\r\n",
            "sports-watch-4609913.txt\r\n",
            "sports-watch-4612295.txt\r\n",
            "sports-watch-4623406.txt\r\n",
            "sports-watch-4623588.txt\r\n",
            "sports-watch-4627799.txt\r\n",
            "sports-watch-4628232.txt\r\n",
            "ls: write error: Broken pipe\r\n"
          ],
          "name": "stdout"
        }
      ]
    },
    {
      "cell_type": "markdown",
      "metadata": {
        "id": "n_tqGDGpLFwo",
        "colab_type": "text"
      },
      "source": [
        "- １行目：記事のURL\n",
        "- ２行目：記事の日付\n",
        "- ３行目：記事のタイトル\n",
        "- ４行目以降：記事の本文"
      ]
    },
    {
      "cell_type": "code",
      "metadata": {
        "id": "k7tj3Tv4Zi_w",
        "colab_type": "code",
        "outputId": "902fc6b3-cce4-4bd3-a98a-050e8bccbc15",
        "colab": {
          "base_uri": "https://localhost:8080/",
          "height": 207
        }
      },
      "source": [
        "!head ./text/sports-watch/sports-watch-4597641.txt"
      ],
      "execution_count": 0,
      "outputs": [
        {
          "output_type": "stream",
          "text": [
            "http://news.livedoor.com/article/detail/4597641/\r\n",
            "2010-02-10T10:50:00+0900\r\n",
            "【Sports Watch】秋山成勲、メールで吉田に対戦迫った!?\r\n",
            "今月8日、都内ホテルでは、総合格闘家・吉田秀彦の引退試合興行「ASTRA」の開催が発表された。\r\n",
            "\r\n",
            "バルセロナ五輪柔道金メダリストとしての実績を引っさげ、2002年にプロ総合格闘家に転向。以後、数々の死闘を繰り広げてきた吉田。昨年大晦日のDynamite!!では、石井慧との金メダリスト対決を制し、4月に迎える引退試合の相手には、桜庭和志やまさかの朝青龍といった報道が駆け巡る中、“反骨の柔道王”秋山成勲が吉田にメールで対戦を迫っていたというのだ。\r\n",
            "\r\n",
            "会見翌日の9日に更新された秋山成勲オフィシャルブログでは、「吉田秀彦対秋山成勲」と題し、「常に憧れ目標にしてきた吉田先輩が引退。正直寂しい気持ちはありますが、ほんまにお疲れ様でした！引退試合はもちろん自分とやるでしょ！？」とストレートに書き綴りながらも、「さっき吉田先輩にメールで自分とやるでしょ？的なメールを打って、軽く流されましたが」と、実際に吉田へ対戦を打診をしていたことを明かした。\r\n",
            "\r\n",
            "もちろん、階級が違う上、秋山は米UFCを主戦場にしている現状、対戦することはまずない。それでも、我が道を行き、空気を一切読まない秋山だけに、案外本気に考えていた可能性もなきにしもあらず——。そんなブログの最後には、「ほんまに柔道から格闘技の道を作って頂いたパイオニアだと自分は思い尊敬してます！引退試合頑張ってください！」と吉田にエールを送る秋山であった。\r\n"
          ],
          "name": "stdout"
        }
      ]
    },
    {
      "cell_type": "code",
      "metadata": {
        "id": "Ykyozu5YLTEU",
        "colab_type": "code",
        "outputId": "f248efda-0538-4795-9562-0c51601f214a",
        "colab": {
          "base_uri": "https://localhost:8080/",
          "height": 35
        }
      },
      "source": [
        "!ls text/sports-watch | grep \".txt\" | wc -l"
      ],
      "execution_count": 0,
      "outputs": [
        {
          "output_type": "stream",
          "text": [
            "901\r\n"
          ],
          "name": "stdout"
        }
      ]
    },
    {
      "cell_type": "markdown",
      "metadata": {
        "id": "EKXvZgvPZq0W",
        "colab_type": "text"
      },
      "source": [
        "## Pythonで文書分類を実装する"
      ]
    },
    {
      "cell_type": "markdown",
      "metadata": {
        "id": "QQVVu-nhvwZb",
        "colab_type": "text"
      },
      "source": [
        "### データの前処理"
      ]
    },
    {
      "cell_type": "markdown",
      "metadata": {
        "id": "mzC3rBZRZxPR",
        "colab_type": "text"
      },
      "source": [
        "#### 利用するモジュールのimport\n",
        "- ファイルを読み込むためのglob\n",
        "- データ整形を行うためのpandas\n",
        "- 形態素解析器\n",
        "- scikit-learn\n",
        "  - CountVectorizer\n",
        "  - TFIDFモジュール"
      ]
    },
    {
      "cell_type": "code",
      "metadata": {
        "id": "GCsLBcdLxhS7",
        "colab_type": "code",
        "colab": {}
      },
      "source": [
        "import glob\n",
        "import re\n",
        "\n",
        "import MeCab\n",
        "import pandas as pd\n",
        "\n",
        "from sklearn.feature_extraction.text import TfidfVectorizer, CountVectorizer\n",
        "from sklearn.preprocessing import LabelEncoder\n",
        "from sklearn.model_selection import train_test_split"
      ],
      "execution_count": 0,
      "outputs": []
    },
    {
      "cell_type": "code",
      "metadata": {
        "id": "f71r2SASedn3",
        "colab_type": "code",
        "colab": {}
      },
      "source": [
        "# LabelEncoderでどうしてもWarningが出るので、いったんWarningを非表示にする\n",
        "import warnings\n",
        "\n",
        "warnings.simplefilter(\"ignore\")"
      ],
      "execution_count": 0,
      "outputs": []
    },
    {
      "cell_type": "markdown",
      "metadata": {
        "id": "iiy6UaMGaMlm",
        "colab_type": "text"
      },
      "source": [
        "#### 文書を読み込む\n",
        "カテゴリは9カテゴリ\n",
        "\n",
        "記事ファイルのフォーマットは以下であるため、これをタプル化する。\n",
        "\n",
        "- １行目：記事のURL\n",
        "- ２行目：記事の日付\n",
        "- ３行目：記事のタイトル\n",
        "- ４行目以降：記事の本文"
      ]
    },
    {
      "cell_type": "code",
      "metadata": {
        "id": "AIsT46VRaDlb",
        "colab_type": "code",
        "colab": {}
      },
      "source": [
        "categories = [\n",
        "    \"sports-watch\", \"topic-news\", \"dokujo-tsushin\", \"peachy\",\n",
        "    \"movie-enter\", \"kaden-channel\", \"livedoor-homme\", \"smax\",\n",
        "    \"it-life-hack\",\n",
        "]"
      ],
      "execution_count": 0,
      "outputs": []
    },
    {
      "cell_type": "code",
      "metadata": {
        "id": "RyNpuGjcxhbI",
        "colab_type": "code",
        "colab": {}
      },
      "source": [
        "docs = []\n",
        "for category in categories:\n",
        "    for f in glob.glob(f\"./text/{category}/{category}*.txt\"):\n",
        "        # 1ファイルごとに処理\n",
        "        with open(f, \"r\") as fin:\n",
        "            # nextで1行取得する(__next__を呼ぶ)\n",
        "            url = next(fin).strip()\n",
        "            date = next(fin).strip()\n",
        "            title = next(fin).strip()\n",
        "            body = \"\\n\".join([line.strip() for line in fin if line.strip()])\n",
        "      \n",
        "        docs.append((category, url, date, title, body))"
      ],
      "execution_count": 0,
      "outputs": []
    },
    {
      "cell_type": "code",
      "metadata": {
        "id": "f_akJlmVDv66",
        "colab_type": "code",
        "outputId": "ce191f6a-aa0e-4c1f-8c9f-fd888ec5378b",
        "colab": {
          "base_uri": "https://localhost:8080/",
          "height": 125
        }
      },
      "source": [
        "docs[0]"
      ],
      "execution_count": 0,
      "outputs": [
        {
          "output_type": "execute_result",
          "data": {
            "text/plain": [
              "('sports-watch',\n",
              " 'http://news.livedoor.com/article/detail/4865712/',\n",
              " '2010-07-05T07:30:00+0900',\n",
              " '【Sports Watch】長谷部に対し、松井“キャプテンぶってる”',\n",
              " '3日放送の日本テレビ「Going! Sports＆News」では、1日にW杯の大舞台から帰国した日本代表の阿部勇樹（浦和レッドダイヤモンズ）、長谷部誠（ヴォルフスブルク）、長友佑都（FC東京）が生出演を果たした。\\n冒頭、長友の大ファンだというマツコ・デラックスから「理想を100とすれば、限りなく90代後半。なぜ、この人がサッカー選手、それも日本代表に選ばれるような。そんな人がどうこうなるわけないじゃない。もしかしたら、日本を離れるかもしれないなんて話もあるから。話し相手に行くわよ」といったVTRが届く。これに対し、「どうなりたいんすかね？きっちいっすね」と苦笑いを浮かべた長友に、長谷部は「ホント、うらやましいですね」と他人ごとのように話す。\\nまた、松井大輔がVTRで登場し、3人の素顔を明かすと、長谷部には「キャプテンぶってる!!」とフリップに書き、「アイツは、ぶってるね。この一言しかいわない」とニヤリ。阿部には「本当は駒ちゃんと○○」と書き、「仲いいからね。友情を超えたものがあるんじゃないか」と意味深な発言、長友には「マツコ・デラックスと（ハートのマーク）」と書いた。\\n思わぬところで、駒野との仲を指摘された阿部は、「そんなんじゃないですよ。でも、中学から知ってるんで。松井は小学校から知ってる」と反論、“キャプテンぶってる”といわれた長谷部は、「自分でも名ばかりのキャプテンだったと思いますけど、松井さんに言われるとムカつきますね」と語り、長友も「いや、もうぶってますし。ただ“俺についてこい”ばりの背中をみせてくれました」と長谷部をフォローした。')"
            ]
          },
          "metadata": {
            "tags": []
          },
          "execution_count": 13
        }
      ]
    },
    {
      "cell_type": "markdown",
      "metadata": {
        "id": "HlzplrODaw6k",
        "colab_type": "text"
      },
      "source": [
        "#### 取り扱いやすいデータフレーム形式に変換"
      ]
    },
    {
      "cell_type": "code",
      "metadata": {
        "id": "-YhZOfWfxhf6",
        "colab_type": "code",
        "colab": {}
      },
      "source": [
        "df = pd.DataFrame(\n",
        "        docs,\n",
        "        columns=[\"category\", \"url\", \"date\", \"title\", \"body\"],\n",
        "        dtype=\"category\"\n",
        ")\n",
        "# 日付は日付型に変更（今回使うわけでは無い）\n",
        "df[\"date\"] = pd.to_datetime(df[\"date\"])"
      ],
      "execution_count": 0,
      "outputs": []
    },
    {
      "cell_type": "markdown",
      "metadata": {
        "id": "uu4oAeHwbBuR",
        "colab_type": "text"
      },
      "source": [
        "#### データの確認"
      ]
    },
    {
      "cell_type": "code",
      "metadata": {
        "id": "rJIfNTtfzAUy",
        "colab_type": "code",
        "outputId": "ff223631-0bb6-48fc-97b4-ee89160a9fd0",
        "colab": {
          "base_uri": "https://localhost:8080/",
          "height": 842
        }
      },
      "source": [
        "# 先頭行数行を表示\n",
        "df.head()"
      ],
      "execution_count": 0,
      "outputs": [
        {
          "output_type": "execute_result",
          "data": {
            "text/html": [
              "<div>\n",
              "<style scoped>\n",
              "    .dataframe tbody tr th:only-of-type {\n",
              "        vertical-align: middle;\n",
              "    }\n",
              "\n",
              "    .dataframe tbody tr th {\n",
              "        vertical-align: top;\n",
              "    }\n",
              "\n",
              "    .dataframe thead th {\n",
              "        text-align: right;\n",
              "    }\n",
              "</style>\n",
              "<table border=\"1\" class=\"dataframe\">\n",
              "  <thead>\n",
              "    <tr style=\"text-align: right;\">\n",
              "      <th></th>\n",
              "      <th>category</th>\n",
              "      <th>url</th>\n",
              "      <th>date</th>\n",
              "      <th>title</th>\n",
              "      <th>body</th>\n",
              "    </tr>\n",
              "  </thead>\n",
              "  <tbody>\n",
              "    <tr>\n",
              "      <th>0</th>\n",
              "      <td>sports-watch</td>\n",
              "      <td>http://news.livedoor.com/article/detail/4865712/</td>\n",
              "      <td>2010-07-04 22:30:00</td>\n",
              "      <td>【Sports Watch】長谷部に対し、松井“キャプテンぶってる”</td>\n",
              "      <td>3日放送の日本テレビ「Going! Sports＆News」では、1日にW杯の大舞台から帰国...</td>\n",
              "    </tr>\n",
              "    <tr>\n",
              "      <th>1</th>\n",
              "      <td>sports-watch</td>\n",
              "      <td>http://news.livedoor.com/article/detail/5575653/</td>\n",
              "      <td>2011-05-21 23:00:00</td>\n",
              "      <td>【Sports Watch】シンクロ美人姉妹の驚くべき特技とは？</td>\n",
              "      <td>朝日放送「Oh！どや顔サミット」には、元シンクロナイズドスイミング日本代表で、世界選手権にも...</td>\n",
              "    </tr>\n",
              "    <tr>\n",
              "      <th>2</th>\n",
              "      <td>sports-watch</td>\n",
              "      <td>http://news.livedoor.com/article/detail/4762254/</td>\n",
              "      <td>2010-05-11 02:23:00</td>\n",
              "      <td>【Sports Watch】テリー伊藤「相当、谷さんは図々しい」</td>\n",
              "      <td>10日、国民的アスリートとして知られる柔道家・谷亮子が、民主党から参院選比例代表に立候補する...</td>\n",
              "    </tr>\n",
              "    <tr>\n",
              "      <th>3</th>\n",
              "      <td>sports-watch</td>\n",
              "      <td>http://news.livedoor.com/article/detail/6359686/</td>\n",
              "      <td>2012-03-12 00:15:00</td>\n",
              "      <td>「無責任すぎる」元浦和フィンケ辞任に批判</td>\n",
              "      <td>10日、浦和レッズの元監督であるフォルカー・フィンケ氏が、1FCケルン（ドイツ）のスポーツデ...</td>\n",
              "    </tr>\n",
              "    <tr>\n",
              "      <th>4</th>\n",
              "      <td>sports-watch</td>\n",
              "      <td>http://news.livedoor.com/article/detail/6741928/</td>\n",
              "      <td>2012-07-11 00:15:00</td>\n",
              "      <td>長友が語る本田圭佑の面白さ「分かってないんです、周りの反応が」</td>\n",
              "      <td>10日放送、TBS「SUPER SOCCER」では、「新たなる旅立ちSP！長友佑都・加藤浩次...</td>\n",
              "    </tr>\n",
              "  </tbody>\n",
              "</table>\n",
              "</div>"
            ],
            "text/plain": [
              "       category                                               url  \\\n",
              "0  sports-watch  http://news.livedoor.com/article/detail/4865712/   \n",
              "1  sports-watch  http://news.livedoor.com/article/detail/5575653/   \n",
              "2  sports-watch  http://news.livedoor.com/article/detail/4762254/   \n",
              "3  sports-watch  http://news.livedoor.com/article/detail/6359686/   \n",
              "4  sports-watch  http://news.livedoor.com/article/detail/6741928/   \n",
              "\n",
              "                 date                               title  \\\n",
              "0 2010-07-04 22:30:00  【Sports Watch】長谷部に対し、松井“キャプテンぶってる”   \n",
              "1 2011-05-21 23:00:00    【Sports Watch】シンクロ美人姉妹の驚くべき特技とは？   \n",
              "2 2010-05-11 02:23:00    【Sports Watch】テリー伊藤「相当、谷さんは図々しい」   \n",
              "3 2012-03-12 00:15:00                「無責任すぎる」元浦和フィンケ辞任に批判   \n",
              "4 2012-07-11 00:15:00     長友が語る本田圭佑の面白さ「分かってないんです、周りの反応が」   \n",
              "\n",
              "                                                body  \n",
              "0  3日放送の日本テレビ「Going! Sports＆News」では、1日にW杯の大舞台から帰国...  \n",
              "1  朝日放送「Oh！どや顔サミット」には、元シンクロナイズドスイミング日本代表で、世界選手権にも...  \n",
              "2  10日、国民的アスリートとして知られる柔道家・谷亮子が、民主党から参院選比例代表に立候補する...  \n",
              "3  10日、浦和レッズの元監督であるフォルカー・フィンケ氏が、1FCケルン（ドイツ）のスポーツデ...  \n",
              "4  10日放送、TBS「SUPER SOCCER」では、「新たなる旅立ちSP！長友佑都・加藤浩次...  "
            ]
          },
          "metadata": {
            "tags": []
          },
          "execution_count": 15
        }
      ]
    },
    {
      "cell_type": "code",
      "metadata": {
        "id": "34zYL8AP1lj5",
        "colab_type": "code",
        "outputId": "18944cee-0408-4af4-cac7-4cee82ca19f4",
        "colab": {
          "base_uri": "https://localhost:8080/",
          "height": 193
        }
      },
      "source": [
        "# それぞれの要素数を数え上げる\n",
        "df.category.value_counts()"
      ],
      "execution_count": 0,
      "outputs": [
        {
          "output_type": "execute_result",
          "data": {
            "text/plain": [
              "sports-watch      900\n",
              "smax              870\n",
              "movie-enter       870\n",
              "it-life-hack      870\n",
              "dokujo-tsushin    870\n",
              "kaden-channel     864\n",
              "peachy            842\n",
              "topic-news        770\n",
              "livedoor-homme    511\n",
              "Name: category, dtype: int64"
            ]
          },
          "metadata": {
            "tags": []
          },
          "execution_count": 16
        }
      ]
    },
    {
      "cell_type": "markdown",
      "metadata": {
        "id": "l-GY5j6EbUpE",
        "colab_type": "text"
      },
      "source": [
        "#### 単語分割\n",
        "MeCabで分かち書きを行う処理を関数化する。\n",
        "\n",
        "DataFrameに分かち書き済みのテキストを格納する。"
      ]
    },
    {
      "cell_type": "code",
      "metadata": {
        "id": "4RIl32yKkyYg",
        "colab_type": "code",
        "colab": {}
      },
      "source": [
        "tagger = MeCab.Tagger(\"-Owakati\")\n",
        "\n",
        "def parse_to_wakati(text):\n",
        "    # wakatiモードのMeCabのparseは、文字列を返す\n",
        "    return tagger.parse(text).strip()"
      ],
      "execution_count": 0,
      "outputs": []
    },
    {
      "cell_type": "code",
      "metadata": {
        "id": "3JNv3M8zik5F",
        "colab_type": "code",
        "colab": {}
      },
      "source": [
        "# dfのbody_wakatiという列に対して、bodyを分かち書きしたものを代入する\n",
        "df = df.assign(body_wakati=df.body.apply(parse_to_wakati))"
      ],
      "execution_count": 0,
      "outputs": []
    },
    {
      "cell_type": "code",
      "metadata": {
        "id": "gQkXCZXIk_0C",
        "colab_type": "code",
        "outputId": "e235b440-2070-4a1b-d935-670a2a05653b",
        "colab": {
          "base_uri": "https://localhost:8080/",
          "height": 842
        }
      },
      "source": [
        "df.head()"
      ],
      "execution_count": 0,
      "outputs": [
        {
          "output_type": "execute_result",
          "data": {
            "text/html": [
              "<div>\n",
              "<style scoped>\n",
              "    .dataframe tbody tr th:only-of-type {\n",
              "        vertical-align: middle;\n",
              "    }\n",
              "\n",
              "    .dataframe tbody tr th {\n",
              "        vertical-align: top;\n",
              "    }\n",
              "\n",
              "    .dataframe thead th {\n",
              "        text-align: right;\n",
              "    }\n",
              "</style>\n",
              "<table border=\"1\" class=\"dataframe\">\n",
              "  <thead>\n",
              "    <tr style=\"text-align: right;\">\n",
              "      <th></th>\n",
              "      <th>category</th>\n",
              "      <th>url</th>\n",
              "      <th>date</th>\n",
              "      <th>title</th>\n",
              "      <th>body</th>\n",
              "      <th>body_wakati</th>\n",
              "    </tr>\n",
              "  </thead>\n",
              "  <tbody>\n",
              "    <tr>\n",
              "      <th>0</th>\n",
              "      <td>sports-watch</td>\n",
              "      <td>http://news.livedoor.com/article/detail/4865712/</td>\n",
              "      <td>2010-07-04 22:30:00</td>\n",
              "      <td>【Sports Watch】長谷部に対し、松井“キャプテンぶってる”</td>\n",
              "      <td>3日放送の日本テレビ「Going! Sports＆News」では、1日にW杯の大舞台から帰国...</td>\n",
              "      <td>3 日 放送 の 日本テレビ 「 Going ! Sports ＆ News 」 で は 、...</td>\n",
              "    </tr>\n",
              "    <tr>\n",
              "      <th>1</th>\n",
              "      <td>sports-watch</td>\n",
              "      <td>http://news.livedoor.com/article/detail/5575653/</td>\n",
              "      <td>2011-05-21 23:00:00</td>\n",
              "      <td>【Sports Watch】シンクロ美人姉妹の驚くべき特技とは？</td>\n",
              "      <td>朝日放送「Oh！どや顔サミット」には、元シンクロナイズドスイミング日本代表で、世界選手権にも...</td>\n",
              "      <td>朝日放送 「 Oh ！ ど や 顔 サミット 」 に は 、 元 シンクロナイズドスイミング...</td>\n",
              "    </tr>\n",
              "    <tr>\n",
              "      <th>2</th>\n",
              "      <td>sports-watch</td>\n",
              "      <td>http://news.livedoor.com/article/detail/4762254/</td>\n",
              "      <td>2010-05-11 02:23:00</td>\n",
              "      <td>【Sports Watch】テリー伊藤「相当、谷さんは図々しい」</td>\n",
              "      <td>10日、国民的アスリートとして知られる柔道家・谷亮子が、民主党から参院選比例代表に立候補する...</td>\n",
              "      <td>10 日 、 国民 的 アスリート として 知ら れる 柔道 家 ・ 谷 亮子 が 、 民主...</td>\n",
              "    </tr>\n",
              "    <tr>\n",
              "      <th>3</th>\n",
              "      <td>sports-watch</td>\n",
              "      <td>http://news.livedoor.com/article/detail/6359686/</td>\n",
              "      <td>2012-03-12 00:15:00</td>\n",
              "      <td>「無責任すぎる」元浦和フィンケ辞任に批判</td>\n",
              "      <td>10日、浦和レッズの元監督であるフォルカー・フィンケ氏が、1FCケルン（ドイツ）のスポーツデ...</td>\n",
              "      <td>10 日 、 浦和レッズ の 元 監督 で ある フォルカー・フィンケ 氏 が 、 1 FC...</td>\n",
              "    </tr>\n",
              "    <tr>\n",
              "      <th>4</th>\n",
              "      <td>sports-watch</td>\n",
              "      <td>http://news.livedoor.com/article/detail/6741928/</td>\n",
              "      <td>2012-07-11 00:15:00</td>\n",
              "      <td>長友が語る本田圭佑の面白さ「分かってないんです、周りの反応が」</td>\n",
              "      <td>10日放送、TBS「SUPER SOCCER」では、「新たなる旅立ちSP！長友佑都・加藤浩次...</td>\n",
              "      <td>10 日 放送 、 TBS 「 SUPER SOCCER 」 で は 、 「 新た なる 旅...</td>\n",
              "    </tr>\n",
              "  </tbody>\n",
              "</table>\n",
              "</div>"
            ],
            "text/plain": [
              "       category                                               url  \\\n",
              "0  sports-watch  http://news.livedoor.com/article/detail/4865712/   \n",
              "1  sports-watch  http://news.livedoor.com/article/detail/5575653/   \n",
              "2  sports-watch  http://news.livedoor.com/article/detail/4762254/   \n",
              "3  sports-watch  http://news.livedoor.com/article/detail/6359686/   \n",
              "4  sports-watch  http://news.livedoor.com/article/detail/6741928/   \n",
              "\n",
              "                 date                               title  \\\n",
              "0 2010-07-04 22:30:00  【Sports Watch】長谷部に対し、松井“キャプテンぶってる”   \n",
              "1 2011-05-21 23:00:00    【Sports Watch】シンクロ美人姉妹の驚くべき特技とは？   \n",
              "2 2010-05-11 02:23:00    【Sports Watch】テリー伊藤「相当、谷さんは図々しい」   \n",
              "3 2012-03-12 00:15:00                「無責任すぎる」元浦和フィンケ辞任に批判   \n",
              "4 2012-07-11 00:15:00     長友が語る本田圭佑の面白さ「分かってないんです、周りの反応が」   \n",
              "\n",
              "                                                body  \\\n",
              "0  3日放送の日本テレビ「Going! Sports＆News」では、1日にW杯の大舞台から帰国...   \n",
              "1  朝日放送「Oh！どや顔サミット」には、元シンクロナイズドスイミング日本代表で、世界選手権にも...   \n",
              "2  10日、国民的アスリートとして知られる柔道家・谷亮子が、民主党から参院選比例代表に立候補する...   \n",
              "3  10日、浦和レッズの元監督であるフォルカー・フィンケ氏が、1FCケルン（ドイツ）のスポーツデ...   \n",
              "4  10日放送、TBS「SUPER SOCCER」では、「新たなる旅立ちSP！長友佑都・加藤浩次...   \n",
              "\n",
              "                                         body_wakati  \n",
              "0  3 日 放送 の 日本テレビ 「 Going ! Sports ＆ News 」 で は 、...  \n",
              "1  朝日放送 「 Oh ！ ど や 顔 サミット 」 に は 、 元 シンクロナイズドスイミング...  \n",
              "2  10 日 、 国民 的 アスリート として 知ら れる 柔道 家 ・ 谷 亮子 が 、 民主...  \n",
              "3  10 日 、 浦和レッズ の 元 監督 で ある フォルカー・フィンケ 氏 が 、 1 FC...  \n",
              "4  10 日 放送 、 TBS 「 SUPER SOCCER 」 で は 、 「 新た なる 旅...  "
            ]
          },
          "metadata": {
            "tags": []
          },
          "execution_count": 19
        }
      ]
    },
    {
      "cell_type": "code",
      "metadata": {
        "id": "i606H7B7E2lF",
        "colab_type": "code",
        "outputId": "5a472d75-301e-4d27-9458-879b846bdb6d",
        "colab": {
          "base_uri": "https://localhost:8080/",
          "height": 231
        }
      },
      "source": [
        "df.body_wakati.head()"
      ],
      "execution_count": 0,
      "outputs": [
        {
          "output_type": "execute_result",
          "data": {
            "text/plain": [
              "0    3 日 放送 の 日本テレビ 「 Going ! Sports ＆ News 」 で は 、...\n",
              "1    朝日放送 「 Oh ！ ど や 顔 サミット 」 に は 、 元 シンクロナイズドスイミング...\n",
              "2    10 日 、 国民 的 アスリート として 知ら れる 柔道 家 ・ 谷 亮子 が 、 民主...\n",
              "3    10 日 、 浦和レッズ の 元 監督 で ある フォルカー・フィンケ 氏 が 、 1 FC...\n",
              "4    10 日 放送 、 TBS 「 SUPER SOCCER 」 で は 、 「 新た なる 旅...\n",
              "Name: body_wakati, dtype: category\n",
              "Categories (7359, object): [\" ミスター \" こと 長嶋 茂雄 ・ 終身 名誉 監督 の 発言 が 物議 を かもし て..., \" 合コン 総研 アナリスト \" の 水谷 麻衣 さん に 聞く 合コン の 極意 。 有名...,\n",
              "                            \" 女のコ の ため の 日本 最大 級 ファッションフェスタ \"『 東京 ガールズコレクシ..., \" 女のコ の ため の 日本 最大 級 ファッションフェスタ \"『 東京 ガールズコレクシ...,\n",
              "                            ..., ＮＴＴドコモ が 、 今年 の １２月 を めど に 、 イギリス の ボーダフォン 法人 ...,\n",
              "                            ＳＦ 小説 の 巨匠 ロバート ・ Ａ ・ ハインライン の 傑作 『 宇宙 の 戦士 』 ..., ＷＢＡ 世界 バンタム 級 王者 ・ 亀田 興 毅 の ４ 度目 の 防衛 戦 が 、 ４月...,\n",
              "                            ｉＰｈｏｎｅ ５ について 、 様々 な 憶測 が 飛び交っ て いる 。 早く 詳細 を ...]"
            ]
          },
          "metadata": {
            "tags": []
          },
          "execution_count": 20
        }
      ]
    },
    {
      "cell_type": "markdown",
      "metadata": {
        "id": "-mgNaulMd50q",
        "colab_type": "text"
      },
      "source": [
        "#### ルールベースのためのラベルのエンコード\n",
        "scikit-learnでは予測値のラベルは数値にエンコードする必要がある。\n",
        "\n",
        "まず、ルールを書くために、予測するラベルをエンコードしておく"
      ]
    },
    {
      "cell_type": "code",
      "metadata": {
        "id": "zKlEmT4go1d6",
        "colab_type": "code",
        "colab": {}
      },
      "source": [
        "# ラベルエンコーダは、ラベルを数値に変換する\n",
        "le = LabelEncoder()\n",
        "\n",
        "# ラベルをエンコードし、エンコード結果をyに代入する\n",
        "y = le.fit_transform(df.category)"
      ],
      "execution_count": 0,
      "outputs": []
    },
    {
      "cell_type": "code",
      "metadata": {
        "id": "ht_dsNIjFSjn",
        "colab_type": "code",
        "outputId": "0f31e959-c4ea-4381-eb85-8b55a4ea9db8",
        "colab": {
          "base_uri": "https://localhost:8080/",
          "height": 35
        }
      },
      "source": [
        "y[:10]"
      ],
      "execution_count": 0,
      "outputs": [
        {
          "output_type": "execute_result",
          "data": {
            "text/plain": [
              "array([7, 7, 7, 7, 7, 7, 7, 7, 7, 7])"
            ]
          },
          "metadata": {
            "tags": []
          },
          "execution_count": 22
        }
      ]
    },
    {
      "cell_type": "code",
      "metadata": {
        "id": "Jx2Tu8_VqKNR",
        "colab_type": "code",
        "outputId": "30ae75a6-d27d-4e3a-cd40-69621e524ada",
        "colab": {
          "base_uri": "https://localhost:8080/",
          "height": 70
        }
      },
      "source": [
        "# ラベルエンコーダがエンコードしたクラスの種類を表示\n",
        "print(le.classes_)\n",
        "\n",
        "# sports-watchクラスが、何にエンコードされたか確認\n",
        "print(le.transform([\"sports-watch\"]))"
      ],
      "execution_count": 0,
      "outputs": [
        {
          "output_type": "stream",
          "text": [
            "['dokujo-tsushin' 'it-life-hack' 'kaden-channel' 'livedoor-homme'\n",
            " 'movie-enter' 'peachy' 'smax' 'sports-watch' 'topic-news']\n",
            "[7]\n"
          ],
          "name": "stdout"
        }
      ]
    },
    {
      "cell_type": "markdown",
      "metadata": {
        "id": "rR_kxj2xtcjt",
        "colab_type": "text"
      },
      "source": [
        "#### 学習とテストに分けて、学習と推定を行う"
      ]
    },
    {
      "cell_type": "code",
      "metadata": {
        "id": "aFPV9HyvltCl",
        "colab_type": "code",
        "colab": {}
      },
      "source": [
        "X_train, X_test, y_train, y_test = train_test_split(\n",
        "                                      df.body_wakati,  # 入力\n",
        "                                      y, # 正解ラベル\n",
        "                                      test_size=0.2, # テストデータのサイズ（全体の何割か）\n",
        "                                      random_state=42, # シャッフルしたときの乱数の種を固定\n",
        "                                      shuffle=True\n",
        ")"
      ],
      "execution_count": 0,
      "outputs": []
    },
    {
      "cell_type": "markdown",
      "metadata": {
        "id": "PhwqC8fntaAd",
        "colab_type": "text"
      },
      "source": [
        "### ルールベース"
      ]
    },
    {
      "cell_type": "code",
      "metadata": {
        "id": "G8s4iMasZvee",
        "colab_type": "code",
        "colab": {}
      },
      "source": [
        "from sklearn.naive_bayes import MultinomialNB, BernoulliNB\n",
        "from sklearn.pipeline import Pipeline\n",
        "from sklearn.base import BaseEstimator, TransformerMixin\n",
        "\n",
        "from sklearn.metrics import classification_report, confusion_matrix"
      ],
      "execution_count": 0,
      "outputs": []
    },
    {
      "cell_type": "markdown",
      "metadata": {
        "id": "DNbrYdd9v7xV",
        "colab_type": "text"
      },
      "source": [
        "#### ルールベース分類器の作成"
      ]
    },
    {
      "cell_type": "code",
      "metadata": {
        "id": "farluH7npYbI",
        "colab_type": "code",
        "colab": {}
      },
      "source": [
        "# scikit-learnのBaseEstimatorとTransformerMixinを継承することで、scikit-learn互換のクラスを作りやすくする\n",
        "class RulebasedEstimator(BaseEstimator, TransformerMixin):\n",
        "    def __init__(self, label_encoder):\n",
        "        self.le = label_encoder\n",
        "  \n",
        "    def fit(self, X, y):\n",
        "        return self\n",
        "\n",
        "    def predict(self, X):\n",
        "        \"\"\"ルールを記述\"\"\"\n",
        "        result = []\n",
        "        for text in X:\n",
        "            pred = 0\n",
        "            if re.search(r\"(スポーツ|サッカー)\", text):\n",
        "                pred = self.le.transform([\"sports-watch\"])[0]\n",
        "            elif re.search(r\"(独女|悩み|ブライド|サプライズ)\", text):\n",
        "                pred = self.le.transform([\"dokujo-tsushin\"])[0]\n",
        "            elif re.search(r\"(Mac|PC|IT|インテル|SSD|CPU)\", text):\n",
        "                pred = self.le.transform([\"it-life-hack\"])[0]\n",
        "            elif re.search(r\"(電力|冷蔵庫|扇風機|家電|熱中症)\", text):\n",
        "                pred = self.le.transform([\"kaden-channel\"])[0]\n",
        "            elif re.search(r\"(店|店舗|マラソン|スポーツ)\", text):\n",
        "                pred = self.le.transform([\"livedoor-homme\"])[0]\n",
        "            elif re.search(r\"(映画|芸能|リアクション|公開)\", text):\n",
        "                pred = self.le.transform([\"movie-enter\"])[0]\n",
        "            elif re.search(r\"(食べ物|菓子|ごはん|ワイン|カフェ)\", text):\n",
        "                pred = self.le.transform([\"peachy\"])[0]\n",
        "            elif re.search(r\"(ゲーム|スマホ)\", text):\n",
        "                pred = self.le.transform([\"smax\"])[0]\n",
        "            elif re.search(r\"(メダル|プレー)\", text):\n",
        "                pred = self.le.transform([\"sports-watch\"])[0]\n",
        "            elif re.search(r\"(テレビ|ジャーナリスト)\", text):\n",
        "                pred = self.le.transform([\"topic-news\"])[0]\n",
        "\n",
        "            result.append(pred)\n",
        "        return result"
      ],
      "execution_count": 0,
      "outputs": []
    },
    {
      "cell_type": "markdown",
      "metadata": {
        "id": "n4vEBgKywJSo",
        "colab_type": "text"
      },
      "source": [
        "#### ルールベースによる分類"
      ]
    },
    {
      "cell_type": "code",
      "metadata": {
        "id": "M4Z-dRXwrY5C",
        "colab_type": "code",
        "colab": {}
      },
      "source": [
        "rulebased = RulebasedEstimator(label_encoder=le)"
      ],
      "execution_count": 0,
      "outputs": []
    },
    {
      "cell_type": "code",
      "metadata": {
        "id": "N7gdySdxretX",
        "colab_type": "code",
        "colab": {}
      },
      "source": [
        "rulebased_pred = rulebased.predict(X_test)"
      ],
      "execution_count": 0,
      "outputs": []
    },
    {
      "cell_type": "markdown",
      "metadata": {
        "id": "jA-gtmRkrhPX",
        "colab_type": "text"
      },
      "source": [
        "####ルールベースの評価"
      ]
    },
    {
      "cell_type": "code",
      "metadata": {
        "id": "epmz9x1puFsg",
        "colab_type": "code",
        "outputId": "f410a01b-aedb-416b-dd4b-34346efa1fe6",
        "colab": {
          "base_uri": "https://localhost:8080/",
          "height": 263
        }
      },
      "source": [
        "print(classification_report(y_test, rulebased_pred, target_names=le.classes_))"
      ],
      "execution_count": 0,
      "outputs": [
        {
          "output_type": "stream",
          "text": [
            "                precision    recall  f1-score   support\n",
            "\n",
            "dokujo-tsushin       0.19      0.45      0.27       176\n",
            "  it-life-hack       0.42      0.59      0.49       139\n",
            " kaden-channel       0.83      0.30      0.44       178\n",
            "livedoor-homme       0.12      0.23      0.16        83\n",
            "   movie-enter       0.52      0.76      0.62       182\n",
            "        peachy       0.38      0.05      0.09       173\n",
            "          smax       0.25      0.09      0.13       182\n",
            "  sports-watch       0.56      0.57      0.57       191\n",
            "    topic-news       0.21      0.11      0.14       170\n",
            "\n",
            "   avg / total       0.41      0.36      0.33      1474\n",
            "\n"
          ],
          "name": "stdout"
        }
      ]
    },
    {
      "cell_type": "markdown",
      "metadata": {
        "id": "4C9Crxkl0X47",
        "colab_type": "text"
      },
      "source": [
        "  | 実際は正 | 実際は負\n",
        "--- | -- | --\n",
        "予測は正 | True Positive | False Positive\n",
        "予測は負 | False Negative | True Negative\n",
        "\n",
        "- 適合率(Precision)：正と予測したうち、実際に正であるものの割合\n",
        "\n",
        "$$ Precision = \\frac{True Positive}{True Positive + False Positive} $$\n",
        "\n",
        "- 再現率(Recall)：実際に正であるもののうち、正と予測されたものの割合\n",
        "\n",
        "$$ Recall = \\frac{True Positive}{True Positive + False Negative} $$\n",
        "\n",
        "- F値(F-measure)：適合率と再現率の調和平均\n",
        "\n",
        "$$ F-measure = \\frac{2 \\cdot Recall \\cdot Precision}{Recall + Precision} $$"
      ]
    },
    {
      "cell_type": "markdown",
      "metadata": {
        "id": "BvxVw_ihkgqC",
        "colab_type": "text"
      },
      "source": [
        "### 多変数ベルヌーイモデルを用いたナイーブベイズ分類器"
      ]
    },
    {
      "cell_type": "markdown",
      "metadata": {
        "id": "V2I5sWuQOLXb",
        "colab_type": "text"
      },
      "source": [
        "データの入力から推定までのパイプラインを作成する。\n",
        "\n",
        "単語の頻度を数え上げ、それを分類器が学習するというパイプラインを作る。"
      ]
    },
    {
      "cell_type": "code",
      "metadata": {
        "id": "2uRJTGFCeLH9",
        "colab_type": "code",
        "colab": {}
      },
      "source": [
        "text_clf = Pipeline([\n",
        "    (\"count_vec\", CountVectorizer()),\n",
        "    (\"clf\", MultinomialNB()),\n",
        "])"
      ],
      "execution_count": 0,
      "outputs": []
    },
    {
      "cell_type": "markdown",
      "metadata": {
        "id": "QqymrAwwOoxU",
        "colab_type": "text"
      },
      "source": [
        "作成したパイプラインに学習データを流し込む。"
      ]
    },
    {
      "cell_type": "code",
      "metadata": {
        "id": "FWpQru4XvmVY",
        "colab_type": "code",
        "outputId": "5d55323b-114f-4127-f445-2d9508bcbe93",
        "colab": {
          "base_uri": "https://localhost:8080/",
          "height": 160
        }
      },
      "source": [
        "text_clf.fit(X_train, y_train)"
      ],
      "execution_count": 0,
      "outputs": [
        {
          "output_type": "execute_result",
          "data": {
            "text/plain": [
              "Pipeline(memory=None,\n",
              "     steps=[('count_vec', CountVectorizer(analyzer='word', binary=False, decode_error='strict',\n",
              "        dtype=<class 'numpy.int64'>, encoding='utf-8', input='content',\n",
              "        lowercase=True, max_df=1.0, max_features=None, min_df=1,\n",
              "        ngram_range=(1, 1), preprocessor=None, stop_words=None,\n",
              "        strip_accents=None, token_pattern='(?u)\\\\b\\\\w\\\\w+\\\\b',\n",
              "        tokenizer=None, vocabulary=None)), ('clf', MultinomialNB(alpha=1.0, class_prior=None, fit_prior=True))])"
            ]
          },
          "metadata": {
            "tags": []
          },
          "execution_count": 31
        }
      ]
    },
    {
      "cell_type": "markdown",
      "metadata": {
        "id": "gS6_TeZDOx1M",
        "colab_type": "text"
      },
      "source": [
        "テストデータを入力し、分類する。"
      ]
    },
    {
      "cell_type": "code",
      "metadata": {
        "id": "vTJ1i-Oqndjk",
        "colab_type": "code",
        "colab": {}
      },
      "source": [
        "pred = text_clf.predict(X_test)"
      ],
      "execution_count": 0,
      "outputs": []
    },
    {
      "cell_type": "markdown",
      "metadata": {
        "id": "MWRDBZWLO4tg",
        "colab_type": "text"
      },
      "source": [
        "評価する。"
      ]
    },
    {
      "cell_type": "code",
      "metadata": {
        "id": "SnWf6krUnivg",
        "colab_type": "code",
        "outputId": "7cd65a10-59c9-436e-d787-b8cbd57d2a5c",
        "colab": {
          "base_uri": "https://localhost:8080/",
          "height": 263
        }
      },
      "source": [
        "print(classification_report(y_test, pred, target_names=le.classes_))"
      ],
      "execution_count": 0,
      "outputs": [
        {
          "output_type": "stream",
          "text": [
            "                precision    recall  f1-score   support\n",
            "\n",
            "dokujo-tsushin       0.79      0.90      0.84       176\n",
            "  it-life-hack       0.89      0.91      0.90       139\n",
            " kaden-channel       0.96      0.90      0.93       178\n",
            "livedoor-homme       0.80      0.63      0.70        83\n",
            "   movie-enter       0.94      0.98      0.96       182\n",
            "        peachy       0.88      0.81      0.84       173\n",
            "          smax       0.94      0.99      0.97       182\n",
            "  sports-watch       0.94      0.98      0.96       191\n",
            "    topic-news       0.95      0.87      0.91       170\n",
            "\n",
            "   avg / total       0.90      0.90      0.90      1474\n",
            "\n"
          ],
          "name": "stdout"
        }
      ]
    },
    {
      "cell_type": "code",
      "metadata": {
        "id": "HogQFsVcOvjK",
        "colab_type": "code",
        "outputId": "de18b3c9-fd74-48a8-ee55-f316c0022c50",
        "colab": {
          "base_uri": "https://localhost:8080/",
          "height": 175
        }
      },
      "source": [
        "print(confusion_matrix(y_test, pred, labels=le.transform(le.classes_)))"
      ],
      "execution_count": 0,
      "outputs": [
        {
          "output_type": "stream",
          "text": [
            "[[158   0   2   1   2  11   0   2   0]\n",
            " [  2 126   1   1   0   0   6   0   3]\n",
            " [  2   7 160   3   0   0   4   0   2]\n",
            " [  9   5   1  52   5   8   2   0   1]\n",
            " [  2   0   0   0 179   1   0   0   0]\n",
            " [ 23   0   0   5   4 140   0   1   0]\n",
            " [  0   1   0   0   0   0 181   0   0]\n",
            " [  0   0   0   1   0   0   0 188   2]\n",
            " [  5   3   2   2   1   0   0   9 148]]\n"
          ],
          "name": "stdout"
        }
      ]
    },
    {
      "cell_type": "markdown",
      "metadata": {
        "id": "ylmqJHkicQOs",
        "colab_type": "text"
      },
      "source": [
        "#### 任意のテキストを入力して解析する"
      ]
    },
    {
      "cell_type": "code",
      "metadata": {
        "id": "UMH8NqM4PHko",
        "colab_type": "code",
        "outputId": "5b7a1a37-1a61-4399-e055-bf74932879ab",
        "colab": {
          "base_uri": "https://localhost:8080/",
          "height": 35
        }
      },
      "source": [
        "original_text = \"あの「Orange is the new black」のシーズン６が7月28日についにNetflixに上陸！\"\n",
        "\n",
        "wakati_text = parse_to_wakati(original_text)\n",
        "print(le.inverse_transform(text_clf.predict([wakati_text]))[0])"
      ],
      "execution_count": 0,
      "outputs": [
        {
          "output_type": "stream",
          "text": [
            "movie-enter\n"
          ],
          "name": "stdout"
        }
      ]
    },
    {
      "cell_type": "markdown",
      "metadata": {
        "id": "iDbsKrK8hhLM",
        "colab_type": "text"
      },
      "source": [
        "#### 間違った例を見る"
      ]
    },
    {
      "cell_type": "code",
      "metadata": {
        "id": "AepYl-9re2mF",
        "colab_type": "code",
        "outputId": "74c21d0c-83c5-48b8-e29a-b008e2182f9e",
        "colab": {
          "base_uri": "https://localhost:8080/",
          "height": 301
        }
      },
      "source": [
        "idx = y_test != pred\n",
        "for text, t, p in zip(X_test[idx][:5], y_test[idx][:5], pred[idx][:5]):\n",
        "    print(\"予測：{}\\n推定:{}\".format(le.inverse_transform(t), le.inverse_transform(p)))\n",
        "    print(text)"
      ],
      "execution_count": 0,
      "outputs": [
        {
          "output_type": "stream",
          "text": [
            "予測：dokujo-tsushin\n",
            "推定:peachy\n",
            "今年 8 月末 に 、 イギリス の 経済 誌 「 エコノミスト 」 を 発行 する エコノミスト ・ インテリジェンス ・ ユニット による 「 世界 の 住み やすい 都市 ランキング 」 の 2011 年版 が 発表 さ れ た 。 これ は 、 世界 の 140 都市 の 「 住み やす さ 」 を 、 「 安定 性 」 、 「 ヘルスケア 」 、 「 文化 と 環境 」 、 「 教育 」 、 「 インフラ 」 など を 含む 30 項目 について 評価 し て 数値 化 する という もの で 、 今年 、 メルボルン が 初めて 1 位 に 輝い た 。 また 、 6 位 に シドニー 、 8 位 に パース と アデレード が 入り 、 オーストラリア の 都市 が トップ 10 以内 に 4 つも ランク イン し 、 オーストラリア が 「 世界 で もっとも 住み やすい 国 」 で ある こと が 証明 さ れ た 。 当然 ながら 観光 都市 として も 最適 で ある こと は 言うまでもなく 、 とくに 日本 が 秋 から 冬 に 向かう これから の 季節 は 、 南半球 の オーストラリア は 春 から 夏 に 向かう 、 まさに 旅行 の ベスト シーズン と なる 時期 だ 。 そこで カンタス航空 で は 、 観光 の ベスト シーズン を 迎える オーストラリア 南部 へ の 旅行 を 対象 に 、 11 月 1 日 〜 12 月 10 日 の 期間 に 成田 ⇔ シドニー 、 メルボルン 、 ブリスベン 、 アデレード 、 ホバート の いずれ か 、 羽田 ⇔ パース （ シンガポール 経由 ） の エコノミー 往復 を 7 万 2000 円 （ ※ ） にて ご 提供 する キャンペーン を 実施 する 。 時差 が 1 〜 2 時間 と 少ない オーストラリア へ は 、 日本 を 夜 出発 すれ ば 機内 で ゆっくり 休ん で 、 翌朝 オーストラリア に 到着 。 また 帰り は 日本 に 早朝 到着 する ので 、 週末 や 短い 休暇 で も 現地 で の 滞在 時間 を 最大限 楽しめる ところ も 大きな 魅力 の ひとつ だ 。 （ ※ 燃油 特別 付加 運賃 、 各種 税金 および 空港 施設 使用 料 が 別途 必要 と なり ます ） 国土 が 広大 な オーストラリア で は 街 や 観光 スポット が 国内 に 点在 し て おり 、 どの 街 を 基点 に 選ぶ か が 、 旅 の プラン の 最初 の ステップ と なる 。 港 の 風景 が 美しい シドニー 、 開拓 時代 の 面影 が 残る アデレード 、 ゴールドコースト の 入り口 で ある ブリスベン 、 澄ん だ 空気 と 水 が 魅力 の ホバート など 、 魅力 的 な 街 が 数多く ある 。 「 メルボルン 」 を はじめ 、 「 世界 で 最も 暮らし やすい 都市 」 ランキング で 上位 を 占め た シドニー 、 パース 、 アデレード へ は 、 カンタス航空 が 便利 。 シドニー へ は 成田 から 毎日 、 直行 便 が 運航 し て おり 、 パース 、 アデレード へ の アクセス も スムーズ な 乗り換え が 可能 だ 。 また 、 周遊 券 「 ウォークアバウト・パス 」 で 豊富 な ネットワーク から 、 自分 が 旅 し たい 都市 を 自由 に 選択 する こと も できる 。 世界 で もっとも 住み やすい 国 と 認め られ た オーストラリア 。 この お 得 な キャンペーン の 機会 に 、 ぜひ 訪れ て み て は いかが だろ う か 。 ■ 関連 リンク カンタス航空 ： オーストラリア 政府 観光 局 共同 キャンペーン ／ カンタス航空 “ イチ オシ ” 航空 券 セール ・ セール 期間 ： 2011 年 10 月 1 日 （ 土 ） 〜 10 月 31 日 （ 月 ） ・ 旅行 期間 ： 2011 年 11 月 1 日 （ 火 ） 〜 12 月 10 日 （ 土 ） の 成田 ・ 羽田 ご 出発 ・ セール 運賃 ： エコノミー クラス 　 往復 ： 7 万 2000 円 ・ 対象 区間 ： 成田 ⇔ シドニー 、 メルボルン 、 ブリスベン 、 アデレード 、 ホバート の いずれ か 羽田 ⇔ パース （ シンガポール 経由 ） ※ 羽田 − シンガポール 間 は 日本航空 による コード シェア 便 ・ 最大 滞在 期間 ： 3 か月 ※ 上記 運賃 は 、 カンタス航空 機材 による 日本 − オーストラリア 間 の 直行 便 を ご 利用 の 大人 一 名 様 の 運賃 で 、 qantas . com で ご 購入 頂く 場合 の 運賃 です 。 空港 施設 使用 料 ・ 出国 税 ・ 燃油 特別 付加 運賃 は 含み ませ ん 。 ※ 空港 使用 料 ・ 出国 税 等 は 為替 により 、 円建て 金額 は 変動 し ます 。 ※ 販売 期間 は 変更 に なる 場合 が あり ます 。 ※ ご 予約 の 変更 に は 、 変更 料 、 取扱 手数料 が かかり ます 。 発券 後 の 取り消し 、 払い戻し に は キャンセル 料 が 発生 し ます 。 ※ 当 セール 運賃 対象 の お 席 に は 限り が あり ます 。 ご 希望 の 便 が ご 用意 でき ない 場合 が ござい ます ので ご 了承 ください 。\n",
            "予測：livedoor-homme\n",
            "推定:dokujo-tsushin\n",
            "素敵 な デート 、 おしゃれ な プレゼント 、 と 考え を 巡らせ て み て も 、 実際 の ところ は 男 が 勝手 に 思い描い て いる 妄想 に すぎ ない コト も ある はず 。 本当に 女の子 が 求める もの って どんな もの な ん だろ う か … … ？ 疑問 は 溜め込ま ず に 直接 聞い て しまお う 、 という こと で 、 今回 は 現役 女子大 生 4 名 の 女子 会 に 潜入 ！ デート の 境界 線 から お金 の 使い方 に 至る まで 、 女の子 の ホンネ を 聞い て み まし た 。 ■ 出席 者 4 名 マキ / 22 歳 ： オーケストラ サークル で フルート を 担当 する お嬢様 系 （ 彼氏 アリ ） アヤコ // 21 歳 ： 高校 時代 は ボート 部 の マネージャー 。 アイドル 系 女子 アナ タイプ （ 彼氏 ナシ ） リコ / 21 歳 ： 本当 か どう か 、 初めて の 彼氏 は 大学生 に なっ て から 、 と の こと （ 彼氏 ナシ ） カナ / 22 歳 ： 最近 は 「 年上 の 男性 が 好み 」 と の こと 。 ちなみに 今 の 彼氏 は 8 コ 上 （ 彼氏 アリ ） —— まず 聞き たい の は 、 みなさん にとって の 「 デート の 境界 線 」 は どこ から です か ？ アヤコ ： 2 人 で 約束 を し て 、 ご飯 食べ に 行っ たら デート って 思う か な 。 カナ ： 確か に そう だ ね 。 約束 し て 食事 って なる と デート かも 。 アヤコ ： 学校 帰り とか 、 バイト 帰り で は なく て 、 何 日 の 何 時 って 、 ちゃんと 約束 し たら デート って 思う でしょ ？ カナ ： あと 、 ご飯 だけ じゃ なく て 、 2 人 で 行動 し たら 「 デート だ な 」 って 思う かも なぁ 。 たとえば 夜景 を 見 に 行く とか 、 ドライブ する 、 とか … … 。 マキ ： そう だ ね 。 ご飯 だけ だっ たら 友達 同士 で も 、 ありえ なく は ない よ ね 。 ご飯 プラス 何 か が ある と 、 あ 、 これ って デート かも って 思う な 。 —— もちろん だ けど 、 その 相手 って 好き な 人 、 もしくは ドキドキ する 人 が 前提 です よ ね ？ リコ ： 基本 的 に は そう か な （ 笑 ） オトコ 友達 として の “ 楽しい ” で は なく て 、 恋愛 対象 として 楽しい 、 ドキドキ できる って こと が 大事 ！ アヤコ ： そもそも 相手 に 興味 が なかっ たら 、 2 人 きり で 行く デート や 食事 の 約束 は し ない よ ね ？ 2 人 で 行く って こと は 、 相手 に対して 好意 が ある わけ だ から 、 相手 の こと を 男 友達 って 割り切っ た 関係 だっ たら 、 食事 で も 数 人 で 行く よ 。 マキ ： 2 人 で 会う 約束 が でき たら 、 もう すでに 何 か あっ て も … … って 思わ ない ？ アヤコ ： それ は ちょっと わかる ！ たとえば 男 友達 と 2 人 きり で 会っ て 気まずく なっ たり 、 お互い に 微妙 な 気持ち に なり たく ない から 、 友達 だって 思っ てる 相手 と は 2 人 で 会う こと は ない よ ね 。 もし 誘わ れ て も 「 ちょっと 忙しく て 」 とか 適当 に 理由 つけ て 断っ ちゃう う か も （ 笑 ） —— たとえば の 話 です が 、 年上 の 社会 人 から 食事 に 誘わ れ て 、 その 男性 に は まったく 興味 が ない けれど 、 誘わ れ た お 店 が 高級 店 で 魅力 的 な お 店 だっ たら 行き ます か ？ マキ ： そう だ なー 、 どんな 雰囲気 で 誘っ て もらえる か 、 かな 。 いかにも 見返り を 求め て そう な 感じ だっ たら イヤ 。 素直 に 私 と デート し たい って 雰囲気 だっ たら 行っ て も いい かなっ て 思い ます 。 すごく 上 から 目線 だ けど （ 笑 ） アヤコ ： なんとなく 面倒 そう な 展開 が 想像 できる から 、 私 は 行か ない 。 リコ ： うわ ー 、 アヤコ は モテ る から シビア だ ねー （ 笑 ） —— いま まで で 、 一番 印象 に 残っ てる デート って あり ます か ？ アヤコ ： 私 の 中 で 一番 印象 に 残っ て いる の は 、 初 デート で ディズニーランド に 行っ た こと （ 笑 ） しかも 、 まだ 付き合っ て い ない 男の子 と （ 笑 ） カナ ： えー 、 あり え ない ！ 付き合っ て ない 人 と ディズニーデート ？ マキ ： それ って ハードル 高く ない ！ ？ アヤコ ： いや 、 そう で も ない よ 。 結局 、 その 日 は 閉園 時間 まで 遊ん で て 「 あ 、 今日 は 告白 さ れる の か な … … 」 なんて 勝手 に 想像 し て い た ん です よ 。 でも 、 その 日 は 帰り際 に 彼 から ペア の 携帯 スト ラップ だけ 貰っ た という 話 な ん です けど （ 笑 ） マキ ： なに それ ！ ？ リコ ： どうして それ が 印象 的 な デート な の ？ アヤコ ： で ね 、 スト ラップ を 貰っ た とき に 「 私 たち って 別 に 付き合っ て ない し 、 付け られ ない 」 って 言っ た の 。 そしたら 「 じゃ 、 次に 会っ たら 告白 する から 」 って 言わ れ て 。 カナ ： キャー ！ ！ なんか すごく いい なー ！ ！ アヤコ ： 結局 、 その あと 数 回 会っ た 後 に 告白 し て くれ た の か な （ 笑 ） 相手 へ の 気持ち の 大き さ は ちょっと 微妙 だっ た ん です けど 、 一番 印象 に 残っ てる デート か な （ 笑 ） —— 他 に は あり ます か ？ カナ ： 最近 の 話 な ん だ けど 、 六本木 ヒルズ で 「 スカイ プラネタリウム 」 って 夜景 と プラネタリウム を 一緒 に 楽しめる イベント あっ た でしょ ？ マキ ： やっ て た ね ！ すごく 綺麗 で ロマンチック な イベント 。 カナ ： みんな 行っ たって 話 を 聞い て た から 、 当然 、 私 だって 行っ て み たい なっ て 思う でしょ 。 で 、 その 当時 ちょっと 気 に なっ て た 男性 に なんとなく 話題 を 振っ て み た ん です けど 、 「 へー 、 そう な ん だ 」 ぐらい の 反応 しか なく て 。 その 数 週間 後 に 彼 と 六本木 で 食事 する こと に なっ て 、 六本木 ヒルズ 周辺 で 遊ん で 、 けやき坂 で イルミネーション 見 て 、 って ちょっと ロマンチック な デート を し て い た ん です 。 リコ ： それ だけ でも 十分 いい デート だ と 思う けど （ 笑 ） カナ ： で 、 しばらく 街 を ブラブラ し て た から 、 もしかして 連れ て 行っ て くれる の か な ？ なんて 想像 し て た ん だ けど 、 結局 は 遅い 時間 に なっ ちゃっ て 、 「 そろそろ 、 帰ろ う か 」 ってな って 。 「 あー 、 やっぱり あの 話 は 覚え て ない ん だ なー 」 って 、 ちょっと 気持ち も 凹ん で た の 。 で 、 駅 に 向かう タイミング で 彼 が 「 トイレ に 行っ て おこ う か 」 って 言い出し て 、 そのまま 彼 が 「 トイレ は この 先 だ から 」 って 、 連れ て 行か れ て エレベーター に 乗っ て 、 降り た ところ が 「 スカイ プラネタリウム 」 の 屋上 展望 台 行き エレベーター 乗り場 だっ た の ！ アヤコ ： それ って ある 意味 サプライズ ！ しかも 付き合っ て ない 関係 だっ たら すごく ドキドキ する かも ！ リコ ： い ー なー ！ カナ ： でしょ ！ そのまま 、 すごく ロマンチック な 気持ち で 夜景 を 見 て 、 プラネタリウム も 見 て 、 最終 的 に は 告白 さ れ て … … という 流れ だっ た （ 笑 ） マキ ： いいっ ！ すごい ロマンチック ！ やっぱり サプライズ って いい よ ね 。 カナ ： プレゼント じゃ なく て も 、 自分 の 話 を ちゃんと 聞い て て くれ て 、 さらに 気持ち を きちんと 汲み取っ て 、 サプライズ し て くれ た こと が 、 すごく 印象 的 な デート だっ た な 。 マキ ： やっぱり 、 気持ち が 込 もっ て いる の は 大事 だ よ ね 。 —— 逆 に NG デート の 経験 って あり ます か ？ リコ ： デート そのもの が NG って 話 で は ない ん だ けど 、 ある 男性 と 付き合っ た ばかり の 頃 の 話 。 デート の 待ち合わせ を し て い て 、 私 は カフェ で コーヒー を 飲ん で 待っ て い た ん です 。 で 、 彼 が 来 て 目 の 前 に 座っ た 瞬間 に 、 私 が 飲ん で い た コーヒー を 彼 の 上着 に こぼし ちゃっ た ん です 。 「 ゴメン ！ 」 って 何 度 も 謝っ て 、 クリーニング 代 も 出す から 言っ て ね 、 ぐらい 気持ち を 込め て 謝っ て い た の 。 そうしたら 「 リコ って 、 そういう ところ 偽善 者 だ よ ね 」 って 言わ れ ちゃっ て ！ もう 、 悲しく て 虚しく て 街 中 な のに 号泣 し て 、 そのまま 帰っ た ん だ 。 アヤコ ： 偽善 者 って （ 笑 ） ちょっと 意味 が 違う よ ね 。 マキ ： 何 が そんなに 気に入ら なかっ た ん だろ う 、 その 彼 。 —— じゃ 、 他 に ケンカ の 話 は あり ます か ？ アヤコ ： 彼 の 家 で 待ち合わせ て デート しよ う って 予定 を 立て た とき が あっ た の 。 当然 、 私 が 家 を 出る とき に は ちゃんと 電話 し て 、 あと ちょっと で 彼 の 家 に 着く って タイミング で 急 に 電話 が 来 て 「 ごめん 、 まだ 友達 が 家 に 居る から 、 ちょっと 何 時間 か 外 で 待っ て て 」 って 言わ れ て 。 マキ ： えー 、 あり え ない ！ カナ ： なん な ん だろ う ね ？ その 彼 、 まったく 意味 が わから ない ！ アヤコ ： 実は その 数 日 前 も デート を ドタキャン さ れ た ばかり で すごく イライラ し て た ので 、 彼 から の 電話 を 無視 し て 家 まで 行っ て 、 友達 の 前 で 彼 の 顔 を ひっぱたい て 帰っ て やっ た （ 笑 ） リコ ： すごい ！ 強い ね ！ カナ ： 友達 の 前 で 殴ら れ た ん だ ！ 彼 、 しばらく 立ち直れ なかっ た はず だ よ （ 笑 ） マキ ： 正直 、 NG の デート って 思い出し て み て も 少ない かも しれ ない な 。 デート って 、 少し でも 「 好き 」 って 気持ち が あっ て する わけ だ から 、 内容 が NG だっ た なんて 話 は 友達 から も そんなに 聞か ない よ ね 。 カナ ： そう だ ね 。 内容 より も 、 やっぱり 男性 の 性格 や 発言 、 さらに は 行動 が NG だ と 、 その デート も 楽しく なく なる か な 。 —— いま 考え られる 「 憧れ の デート 」 って どんな プラン です か ？ アヤコ ： やっぱり サプライズ は 憧れる かも 。 カナ ： で も やり すぎ の サプライズ は 「 ちょっと ヤメ て 」 って 思わ ない ？ 急 に 海外 旅行 に 連れ て っ て くれる 、 なんて ロマンチック だ けど 、 現実 的 に 考え たら やっぱり ちゃんと 準備 し て 行き たい よ ね 。 マキ ： 海外 は イヤ だ けど 、 国内 1 泊 ぐらい だっ たら いい か な 。 たとえば 前日 、 彼 の 家 に 泊まっ て て 、 急 に 「 明日 、 朝 イチ の 便 で 北海道 行く ぞ ！ 」 とか 言わ れ たら ドキドキ する よ ね ！ リコ ： 韓国 、 台湾 も 1 泊 あれ ば 十 分 行ける はず だ から 、 海外 で も 近けれ ば いい か な 。 —— 旅行 って 話 が 出 まし た けど 、 高額 な モノ や 食事 ・ 旅行 を 奢っ て もらっ た 経験 は あり ます か ？ もしくは 、 すごく 高価 な 贈り物 を 目 の 前 に 出さ れ たら どう し ます ？ アヤコ ： 「 ありがとう 」 って 言っ て 受け取っ ちゃう か な （ 笑 ） 全員 ： えー ！ リコ ： 簡単 に 受け取る の ？ 後々 怖く ない ？ カナ ： その 金額 に 見合っ た もの を 返さ ない と 、 って 考える と 怖い かも 。 アヤコ ： 素直 に 受け取れ ば いい じゃん 。 金額 じゃ なく て 、 選ん で くれ た 気持ち を 含め て 頂い て おく 。 マキ ： その 考え方 は アヤコ の いい ところ だ よ ね （ 笑 ） アヤコ ： 値段 が 1 万 円 でも 50 万 円 でも 「 プレゼント 」 に 込め られ た 気持ち は 同じ でしょ ？ リコ ： いや 、 金額 に 見合っ た 何 か を 返さ ない と 、 って 思う よ 。 急 に 高い モノ を 贈ら れ たら 絶対 に 下心 が ある って 考える でしょ （ 笑 ） —— で は 贈り物 は 自分 が 返せる 同等 ぐらい の モノ が いい という こと です か ？ リコ ： どう だろ う 、 相手 の 年齢 に も よる か なー 。 アヤコ ： 同 世代 だっ たら 、 自分 が 出せる 金額 と 同等 の もの が いい か な 。 マキ ： 相手 が 社会 人 だっ たら 、 ちょっと 高い もの を 期待 する よ ね 。 カナ ： そう だ ！ デート じゃ なく て 、 プレゼント の 話 だっ たら 1 つ ある 。 ちょっと 前 な ん だ けど 、 たくさん の プレゼント を まとめ て 一 度 に 貰っ た こと が あっ て 、 それ が すごく 嬉しかっ た の 。 アクセサリー 、 ニット 帽 、 さらに セレクト ショップ の 携帯 スト ラップ なんか を 、 一式 に し て 袋 に 入れ て 「 はい 、 どうぞ 」 って 。 私 に 渡す ため に がんばっ て 買い 回っ て くれ た 気持ち が 、 すごく 嬉しかっ た な 。 —— ちなみに 記念 日 ・ 誕生 日 の プレゼント って 、 はい どうぞ 、 って 貰う もの ？ それとも 一緒 に 買い に 行っ たり する の と 、 どちら が 一般 的 です か ？ カナ ： 気持ち として は 、 はい 、 どうぞ 、 が いい かも ！ リコ ： そう だ ね ！ アヤコ ： 「 アクセサリー が 欲しい 」 ぐらい まで は 伝え て おい て 、 後 は 選ん で おい て 欲しい 。 カナ ： どんな バッグ で も 指輪 で も 、 プレゼント さ れ た もの は 使う よ ね ？ アヤコ ： 絶対 に 使う よ ！ 1000 円 の バッグ で も 50 万 円 の バッグ で も 同じ よう に 使う ！ —— 今 まで 貰っ た もの の 中 で 一番 安い プレゼント って どんな もの です か ？ マキ ： UFO キャッチャー の ぬいぐるみ か な 。 でも 、 お金 を 出せ ば 買える もの じゃ ない から 、 それ は それ で 嬉しかっ た です よ 。 リコ ： あ 、 私 も UFO キャッチャー の 景品 で 思い出 が ある ！ 当時 は 友人 だっ た 男の子 と 話 を し て い て 、 ある 景品 の 話 に なっ た ん です 。 「 あの 商品 って 最近 ゲーセン で 見 ない よ ね 」 って 。 当時 、 結構 人気 の 商品 で 、 なかなか 取れ ない し 、 置い て ある お 店 も 少なく なっ て き て た 時期 だっ た ん です 。 で 「 もう どこ 探し て も ない ん だ よ ね 」 って 話 を し た ん です 。 そうして 、 次に 会っ た とき 、 「 はい 」 って 私 に プレゼント し て くれ た ん です よ ！ 絶対 に かなり 探し回っ て くれ た はず だろ う 、 って 思っ て 。 アヤコ ： それ いい ー ！ お金 より 価値 が ある よ ね ！ ！ リコ ： そう でしょ ？ いくら 掛かっ た か わから ない し 、 すごく 労力 を かけ て くれ た 感じ が する ！ アヤコ ： 実は UFO キャッチャー の 景品 って すごく 嬉しかっ たり し ない ？ がんばっ て 取っ て くれ た って 気持ち が 嬉しい 。 リコ ： でも 、 大人 の 男性 に さ れる の は イヤ です （ 笑 ） 全員 ： わかる ーー ！ ！ アヤコ ： 同い年 の 学生 だ から いい ん です よ ！ カナ ： まったく 同じ コト さ れ たら 引く かも ね （ 笑 ） マキ ： デート で は 歳 相応 の 振る舞い を し て 欲しい という こと だ よ ね 。 20 代 なら UFO キャッチャー で OK 、 社会 人 なら 日帰り で 旅行 ぐらい の 気概 を 見せ て 欲しい 、 と 。 全員 ： そう そう ！ ！ —— なるほど 。 それ が 結論 かも しれ ませ ん ね 。 アヤコ ： わたし たち ぐらい の 年齢 だ と 、 同 世代 の 男の子 って すごく 幼く 感じ ない ？ バイト 先 とか で 年上 の 男性 と 接する 機会 が 多い から か な ？ カナ ： だから 、 10 コ 上 ぐらい の 男性 って すごく 魅力 的 だ よ ね ？ いろんな 話 を 自分 の 経験 を 元 に 言っ て くれる から 、 たくさん 話 も 聞き たい と 思う し 。 年齢 相応 の 話 を し て くれる の は 別 に 構わ ない よ ね ？ リコ ： むしろ ジェネレーションギャップ を 埋めよ う と 無理 に 若 ぶっ たり 、 がんばっ てる 感じ が 出 て しまう の は イタ いよ ね 。 ある程度 、 年齢 を 重ね て いる の で あれ ば 、 若い フリ を し なく て いい と 思う ん です 。 いい 歳 な のに メール の 文体 が 同 世代 の 男の子 と 同じ だっ たり 、 絵文字 や デ コメ だらけ だっ たら 惹か れ ない か な 。 マキ ： 結婚 し て い なけれ ば 、 正直 な ところ デート に 誘っ て 欲しい （ 笑 ） 自分 の 知ら ない よう な 、 いろんな ところ に 連れ て っ て 欲しい から （ 笑 ） アヤコ ： 自分 じゃ 行け ない 「 高級 な 」 いろんな ところ って 意味 だ よ ね （ 笑 ） 全員 ： （ 爆笑 ） デート や プレゼント 、 そして お金 に 至る まで 、 現役 女子大 生 が ホンネ を 晒し た 今回 の ガールズトーク 。 「 大人 の オトコ は 魅力 的 」 という 明確 な 言葉 を 彼女 たち から 聞い た からには 、 ぜひとも “ 肉食 ” の 姿勢 で 挑ん で ほしい ！\n",
            "予測：kaden-channel\n",
            "推定:smax\n",
            "独自 アプリ が すでに インストール さ れ て おり 、 Yahoo ! JAPAN の サービス の 利用 に 最適 化 し た スマート フォン 端末 「 Yahoo ! Phone 」 が ヤフー と ソフトバンク モバイル より ９月 ２ ３ 日 から 販売 さ れる 。 「 Yahoo ! Phone 」 は 、 独自 の ホームアプリ や Yahoo ! JAPAN の 各種 サービス の アプリ が プリセット さ れ て いる 。 検索 サービス や ニュース など 人気 の サービス が 集約 さ れ て いる 。 その ほか プリセットアプリ は 、 ヤフー の カレンダー 、 地図 、 天気 予報 、 ヤフオク など 13 種類 と なる 。 ■ ソフトウェア プラットフォーム ： Android 2 . 3 連続 通話 時間 ： 約 450 分 連続 待 受 時間 ： 約 550 時間 サイズ ： 約 61 . 5 × 123 × 12 （ mm ） 質量 ： 約 129 （ g ） カラー ： アドバンストホワイト Yahoo ! Phone SoftBank 009 SH Y （ ソフトバンク モバイル ） ■ 関連 記事 ・ 【 話題 】 電子 書籍 の 世界 規格 に 縦 書き も 対応 に ・ パナソニック の 「 旅 ナビ 」 に 新 モデル 登場 ！ 「 CN - MH 01 L 」 は ガイドブック データ が 充実 ・ 【 話題 】 押す と しゃべる ！ 　 テレ 東 が 「 ピカチュウリモコン 」 を ７ ， ７ ７ ７ 名 に プレゼント ！ ・ 女性 人気 の 高い ミラーレスカメラ は オリンパス 「 PEN E - P 3 」 ・ 【 ニュース 】 本格 運用 開始 の 「 グーグル +」、 中国 で は 利用 不可\n",
            "予測：livedoor-homme\n",
            "推定:peachy\n",
            "\" 女のコ の ため の 日本 最大 級 ファッションフェスタ \"『 東京 ガールズコレクション 』 ( 以下 TGC )。 開催 日 前後 に は 多く の TV や 新聞 で 取り上げ られ 、 コレクション と 無関係 な 男性 諸氏 で も 、 その 存在 は 耳 に し た こと が ある はず 。 しかしながら 、 「 タレント が ラン ウェイ で 華やか に 歩く イメージ 」 だけ が 先行 し がち な TGC に は 「 実際 に 女のコ ばり な の か ？ 」 、 「 イベント の 収益 は ？ 」 、 「 何 時間 くらい かかる の か ？ 」 など など 、 疑問 は つき ない 。 そこで livedoor HOMME で は 、 TGC という イベント ビジネス に フィーチャー 。 前編 と 後編 に わけ て 、 \" オンナ の 花園 \" TGC の 深奥 を 探っ て ゆき たい 。 前編 の 今回 は 、 モード ブランド を こよなく 愛し 、 ファッション ・ アート ・ ミュージック を 中心 に 、 年間 1000 件 以上 の 取材 を こなす 非 リア 充 男子 、 ライター S が 実際 に TGC へ 行っ て み た 感想 を 紹介 する 。 TGC は 、 開演 前 から 「 女 の 戦い 」 が 始まっ て いる ！ 電車 を 下車 し た 女性 が 全て TGC に 行く よう に 見える 錯覚 を 覚え ながら 、 会場 周り を 散歩 し て みる と ・ ・ ・ なんと 、 朝 9 時 の 時点 （ 開演 6 時間 前 ） で 、 思わず 正月 の バーゲン セール を 彷彿 と さ せる 長蛇 の 列 ！ ！ ！ 係員 さん に 聞い て み た ところ 、 「 一般 は 朝 7 時 〜 、 一般 VIP で も 朝 9 時 〜 」 並ん で いたそ う 。 開演 前 に 、 早く も 「 女 の 戦い 」 を 思い知る 。 豪華 な 照明 ・ 音響 機材 による クラブ 的 な 楽し さ に 、 不覚 に も テンション ↑ ↑ ↑ 開場 と 同時に 、 一斉 に 走り だす 観客 達 。 開場 後 に は 、 進む の が 難しい ほど の 人だかり 。 ４ 階 席 に も 多く の 客席 が 埋まり 、 輝かしく ステージ が ライトアップ さ れる 。 一般 の 開場 が 始まる と 、 早朝 並び 組み の 女性 たち は 、 「 段差 が ある ので 、 危険 です ので 歩い て ください ！ 」 という 係員 さん の 指示 や 静止 を 無視 し て 、 最 前列 に 向かっ て 、 ひたすら ダッシュ ！ ！ ！ 遠方 から 、 この 日 の ため に 悪天候 に 負け ず 朝 から 長時間 待ち侘び て い た 女子 達 の 爆発 する 気持ち が 分かる だけ に 、 運営 側 は 注意 だけ で なく 走ら せ ない 為 の 工夫 が 必要 そう 。 なん に せよ 、 転ん だり する 姿 を 見 なく て 一 安心 。 また 、 各 ブランド の ファッションショー 、 アーティスト による パフォーマンス 等 が 行わ れる メイン フロア の 中央 に 位置 する 高 さ 1 . 5 メートル 、 全長 45 メートル に 及ぶ ラン ウェイ は 、 迫力 満点 。 十字架 型 の クロスランウェイ に する こと で 、 より 多く の 観客 が 肉眼 で ショー を 楽しむ こと が できる よう 工夫 さ れ て いる 。 次 の ページ へ 　- 来場 女性 が 主役 と なり 、 楽しく 、 美しく ！ 最早 、 プレゼント 企画 は スタンダード ！ 無料 と は 思え ない ユーモア あふれる 企画 が 目白押し ！- 1 2 3\n",
            "予測：livedoor-homme\n",
            "推定:peachy\n",
            "昨今 の フェスブーム も あり 、 今年 の 夏 も 日本 各地 で さまざま な 音楽 フェス が 開催 さ れ た 。 と は いえ 、 さすが に 今年 は 震災 の 影響 も あり 、 例年 と 比較 する と やや 小規模 な 開催 状況 と なっ た よう だ 。 そんな 折 、 この 10 月 に まったく 新しい 価値 観 を 持っ た フェス が 開催 さ れる 。 それ が 、 新しい 巨大 飲食 フェスティバル 『 ま ん パク 』 だ 。 ま ん パク と は 「 満腹 博覧 会 」 の 略称 で 、 ラーメン 、 カレー 、 丼 、 スイーツ といった 「 ジャンル 」 の 精鋭 と 、 ご 当地 グルメ や 物産 、 ワールド といった 「 地域 」 の 精鋭 約 80 店舗 が 有明 に 大 集合 し て 開催 さ れる 「 食 の フェス 」 な の だ 。 全国 各地 の イベント や フェス で 行列 を 生ん で いる 人気 料理 から 、 今後 ブレイク し そう な 「 食 宝 」 の 原石 まで が 一堂 に 会 する 。 そして 、 企画 制作 は なんと ロッキング・オン と いう から 驚き だ 。 ご存知 の 通り 2000 年 から スタート し た 野外 ロック ・ フェスティバル 「 ROCK IN JAPAN FESTIVAL 」 を はじめ 、 日本 最大 級 の 音楽 フェスティバル を 年 に 複数 回 開催 し て いる 音楽 出版 社 で ある こと は 、 もはや 説明 不要 だろ う 。 フェス の すべて を 知り 尽くし た ロッキング・オン が 得意 ジャンル の 音楽 を “ 封印 ” し て 、 “ 食 ” 一 本 で 勝負 を かける 。 そんな 、 まったく 新しい フェス の 形 。 食欲 の 秋 に ぜひ 新しい フェス を 体験 し て み て は いかが だろ う か 。 ■ イベント 概要 ・ イベント 名 ： ま ん パク 　(※ 満腹 博覧 会 の 略称 ) ・ 日程 ： 2011 年 10 月 8 日 （ 土 ） ・ 9 日 （ 日 ） ・ 10 日 （ 月 ・ 祝 ） 、 14 日 （ 金 ） ・ 15 日 （ 土 ） ・ 16 日 （ 日 ） （ 計 6 日間 ） ・ 時間 ： （ 開場 ） 11 : 00 （ 閉場 ） 19 : 30 （ ※ 10 月 10 日 （ 月 ・ 祝 ） 、 16 日 （ 日 ） は 閉場 17 : 30 ） （ 各日 とも 予定 ） ・ 会場 ： 東京 臨海 広域 防災 公園 〒 135 - 0063 　 東京 都 江東 区 有明 3 丁目 ・ アクセス ： りん かい 線 国際 展示 場 駅 より 徒歩 4 分 、 ゆり かもめ 有明 駅 より 徒歩 2 分 ・ 入場 料金 ： 前売 400 円 / 当日 500 円 （ 当日 券 の 販売 に関して は 後日 お知らせ いたし ます 。 ）\n"
          ],
          "name": "stdout"
        }
      ]
    },
    {
      "cell_type": "markdown",
      "metadata": {
        "id": "r4JVg7r5zVo2",
        "colab_type": "text"
      },
      "source": [
        "### Bernoulliのナイーブベイズ分類器\n",
        "頻度の数え上げを行い、ナイーブベイズ分類器を学習する。\n",
        "\n",
        "$$ P(x_{i} | y) = P(i | y)x_{i} + (1-P(i|y))(1-x_{i})$$"
      ]
    },
    {
      "cell_type": "code",
      "metadata": {
        "id": "FNDUE8NWzbMu",
        "colab_type": "code",
        "colab": {}
      },
      "source": [
        "bernoulli_clf = Pipeline([\n",
        "    (\"count_vec\", CountVectorizer()),\n",
        "    (\"clf\", BernoulliNB()),\n",
        "])"
      ],
      "execution_count": 0,
      "outputs": []
    },
    {
      "cell_type": "markdown",
      "metadata": {
        "id": "19HBvy8ir1WS",
        "colab_type": "text"
      },
      "source": [
        "作成したパイプラインに基づき学習する。"
      ]
    },
    {
      "cell_type": "code",
      "metadata": {
        "id": "aVERMnllz_4l",
        "colab_type": "code",
        "outputId": "2bd05d3a-1440-491d-c2cb-a29ae9d26c95",
        "colab": {
          "base_uri": "https://localhost:8080/",
          "height": 156
        }
      },
      "source": [
        "bernoulli_clf.fit(X_train, y_train)"
      ],
      "execution_count": 0,
      "outputs": [
        {
          "output_type": "execute_result",
          "data": {
            "text/plain": [
              "Pipeline(memory=None,\n",
              "     steps=[('count_vec', CountVectorizer(analyzer='word', binary=False, decode_error='strict',\n",
              "        dtype=<class 'numpy.int64'>, encoding='utf-8', input='content',\n",
              "        lowercase=True, max_df=1.0, max_features=None, min_df=1,\n",
              "        ngram_range=(1, 1), preprocessor=None, stop_words=None,\n",
              "        strip_accents=None, token_pattern='(?u)\\\\b\\\\w\\\\w+\\\\b',\n",
              "        tokenizer=None, vocabulary=None)), ('clf', BernoulliNB(alpha=1.0, binarize=0.0, class_prior=None, fit_prior=True))])"
            ]
          },
          "metadata": {
            "tags": []
          },
          "execution_count": 35
        }
      ]
    },
    {
      "cell_type": "markdown",
      "metadata": {
        "id": "L-LF9LRor5_c",
        "colab_type": "text"
      },
      "source": [
        "学習したパラメータを用いて、クラス推定を行う。"
      ]
    },
    {
      "cell_type": "code",
      "metadata": {
        "id": "yUOkIEEb1Gyl",
        "colab_type": "code",
        "outputId": "968d381d-9741-4fec-9d6e-97695b5152dc",
        "colab": {
          "base_uri": "https://localhost:8080/",
          "height": 255
        }
      },
      "source": [
        "pred = bernoulli_clf.predict(X_test)\n",
        "print(classification_report(y_test, pred, target_names=le.classes_))"
      ],
      "execution_count": 0,
      "outputs": [
        {
          "output_type": "stream",
          "text": [
            "                precision    recall  f1-score   support\n",
            "\n",
            "dokujo-tsushin       0.83      0.90      0.86       176\n",
            "  it-life-hack       0.91      0.92      0.91       139\n",
            " kaden-channel       0.89      0.95      0.92       178\n",
            "livedoor-homme       0.91      0.47      0.62        83\n",
            "   movie-enter       0.96      0.93      0.94       182\n",
            "        peachy       0.85      0.81      0.83       173\n",
            "          smax       0.99      1.00      0.99       182\n",
            "  sports-watch       0.85      0.98      0.91       191\n",
            "    topic-news       0.94      0.89      0.92       170\n",
            "\n",
            "   avg / total       0.90      0.90      0.90      1474\n",
            "\n"
          ],
          "name": "stdout"
        }
      ]
    },
    {
      "cell_type": "markdown",
      "metadata": {
        "id": "fXIpmdtxkuE9",
        "colab_type": "text"
      },
      "source": [
        "### 線形SVMによる分類器"
      ]
    },
    {
      "cell_type": "code",
      "metadata": {
        "id": "w0pTo9SsnS8b",
        "colab_type": "code",
        "colab": {}
      },
      "source": [
        "from sklearn.svm import LinearSVC"
      ],
      "execution_count": 0,
      "outputs": []
    },
    {
      "cell_type": "code",
      "metadata": {
        "id": "RZg2iRga1q84",
        "colab_type": "code",
        "outputId": "da5a7195-1523-4330-ca8f-5228e905b302",
        "colab": {
          "base_uri": "https://localhost:8080/",
          "height": 153
        }
      },
      "source": [
        "svm_clf = Pipeline([\n",
        "    (\"tfidf\", TfidfVectorizer()),\n",
        "    (\"clf\", LinearSVC()),\n",
        "])\n",
        "\n",
        "svm_clf.fit(X_train, y_train)"
      ],
      "execution_count": 0,
      "outputs": [
        {
          "output_type": "execute_result",
          "data": {
            "text/plain": [
              "Pipeline(memory=None,\n",
              "     steps=[('tfidf', TfidfVectorizer(analyzer='word', binary=False, decode_error='strict',\n",
              "        dtype=<class 'numpy.int64'>, encoding='utf-8', input='content',\n",
              "        lowercase=True, max_df=1.0, max_features=None, min_df=1,\n",
              "        ngram_range=(1, 1), norm='l2', preprocessor=None, smooth_idf=True,\n",
              " ...ax_iter=1000,\n",
              "     multi_class='ovr', penalty='l2', random_state=None, tol=0.0001,\n",
              "     verbose=0))])"
            ]
          },
          "metadata": {
            "tags": []
          },
          "execution_count": 38
        }
      ]
    },
    {
      "cell_type": "code",
      "metadata": {
        "id": "p8ctvWws13q-",
        "colab_type": "code",
        "outputId": "c367f831-6136-499c-e0b4-14b22ecbb21e",
        "colab": {
          "base_uri": "https://localhost:8080/",
          "height": 255
        }
      },
      "source": [
        "pred = svm_clf.predict(X_test)\n",
        "print(classification_report(y_test, pred, target_names=le.classes_))"
      ],
      "execution_count": 0,
      "outputs": [
        {
          "output_type": "stream",
          "text": [
            "                precision    recall  f1-score   support\n",
            "\n",
            "dokujo-tsushin       0.89      0.89      0.89       176\n",
            "  it-life-hack       0.95      0.96      0.95       139\n",
            " kaden-channel       0.98      0.96      0.97       178\n",
            "livedoor-homme       0.90      0.78      0.84        83\n",
            "   movie-enter       0.97      0.99      0.98       182\n",
            "        peachy       0.92      0.91      0.92       173\n",
            "          smax       0.99      1.00      1.00       182\n",
            "  sports-watch       0.93      0.98      0.95       191\n",
            "    topic-news       0.96      0.94      0.95       170\n",
            "\n",
            "   avg / total       0.95      0.95      0.95      1474\n",
            "\n"
          ],
          "name": "stdout"
        }
      ]
    },
    {
      "cell_type": "markdown",
      "metadata": {
        "id": "lKHu94aLutbU",
        "colab_type": "text"
      },
      "source": [
        "### ランダムフォレストによる分類器"
      ]
    },
    {
      "cell_type": "code",
      "metadata": {
        "id": "YUrG4aSx2XRL",
        "colab_type": "code",
        "colab": {}
      },
      "source": [
        "from sklearn.ensemble import RandomForestClassifier"
      ],
      "execution_count": 0,
      "outputs": []
    },
    {
      "cell_type": "code",
      "metadata": {
        "id": "yP6QI82M2rX8",
        "colab_type": "code",
        "outputId": "b9dee977-f0dc-4e76-e004-c390b006b9b1",
        "colab": {
          "base_uri": "https://localhost:8080/",
          "height": 153
        }
      },
      "source": [
        "rf_clf = Pipeline([\n",
        "    (\"tfidf\", TfidfVectorizer()),\n",
        "    (\"clf\", RandomForestClassifier()),\n",
        "])\n",
        "\n",
        "rf_clf.fit(X_train, y_train)"
      ],
      "execution_count": 0,
      "outputs": [
        {
          "output_type": "execute_result",
          "data": {
            "text/plain": [
              "Pipeline(memory=None,\n",
              "     steps=[('tfidf', TfidfVectorizer(analyzer='word', binary=False, decode_error='strict',\n",
              "        dtype=<class 'numpy.int64'>, encoding='utf-8', input='content',\n",
              "        lowercase=True, max_df=1.0, max_features=None, min_df=1,\n",
              "        ngram_range=(1, 1), norm='l2', preprocessor=None, smooth_idf=True,\n",
              " ...n_jobs=1,\n",
              "            oob_score=False, random_state=None, verbose=0,\n",
              "            warm_start=False))])"
            ]
          },
          "metadata": {
            "tags": []
          },
          "execution_count": 41
        }
      ]
    },
    {
      "cell_type": "code",
      "metadata": {
        "id": "RapifuM72v1l",
        "colab_type": "code",
        "outputId": "c17911e1-c1f7-48dd-a9fd-193c2eb2c3ee",
        "colab": {
          "base_uri": "https://localhost:8080/",
          "height": 255
        }
      },
      "source": [
        "pred = rf_clf.predict(X_test)\n",
        "print(classification_report(y_test, pred, target_names=le.classes_))"
      ],
      "execution_count": 0,
      "outputs": [
        {
          "output_type": "stream",
          "text": [
            "                precision    recall  f1-score   support\n",
            "\n",
            "dokujo-tsushin       0.75      0.88      0.81       176\n",
            "  it-life-hack       0.84      0.90      0.87       139\n",
            " kaden-channel       0.88      0.92      0.90       178\n",
            "livedoor-homme       0.70      0.40      0.51        83\n",
            "   movie-enter       0.88      0.92      0.90       182\n",
            "        peachy       0.84      0.74      0.79       173\n",
            "          smax       0.98      0.99      0.99       182\n",
            "  sports-watch       0.86      0.93      0.90       191\n",
            "    topic-news       0.94      0.83      0.88       170\n",
            "\n",
            "   avg / total       0.86      0.86      0.86      1474\n",
            "\n"
          ],
          "name": "stdout"
        }
      ]
    },
    {
      "cell_type": "markdown",
      "metadata": {
        "id": "ytAdfRgyuzgP",
        "colab_type": "text"
      },
      "source": [
        "### 多層パーセプトロンによる分類器\n",
        "\n",
        "学習に数分時間が必要"
      ]
    },
    {
      "cell_type": "code",
      "metadata": {
        "id": "h2yrc2ru16ko",
        "colab_type": "code",
        "colab": {}
      },
      "source": [
        "from sklearn.neural_network import MLPClassifier"
      ],
      "execution_count": 0,
      "outputs": []
    },
    {
      "cell_type": "code",
      "metadata": {
        "id": "4ZdH-_mN2P0t",
        "colab_type": "code",
        "outputId": "8986829e-ee14-4a9c-b7b2-0e99b032a985",
        "colab": {
          "base_uri": "https://localhost:8080/",
          "height": 170
        }
      },
      "source": [
        "mlp_clf = Pipeline([\n",
        "    (\"tfidf\", TfidfVectorizer()),\n",
        "    (\"clf\", MLPClassifier()),\n",
        "])\n",
        "\n",
        "mlp_clf.fit(X_train, y_train)"
      ],
      "execution_count": 0,
      "outputs": [
        {
          "output_type": "stream",
          "text": [
            "/usr/local/lib/python3.6/dist-packages/sklearn/neural_network/multilayer_perceptron.py:566: UserWarning: Training interrupted by user.\n",
            "  warnings.warn(\"Training interrupted by user.\")\n"
          ],
          "name": "stderr"
        },
        {
          "output_type": "execute_result",
          "data": {
            "text/plain": [
              "Pipeline(memory=None,\n",
              "     steps=[('tfidf', TfidfVectorizer(analyzer='word', binary=False, decode_error='strict',\n",
              "        dtype=<class 'numpy.int64'>, encoding='utf-8', input='content',\n",
              "        lowercase=True, max_df=1.0, max_features=None, min_df=1,\n",
              "        ngram_range=(1, 1), norm='l2', preprocessor=None, smooth_idf=True,\n",
              " ...=True, solver='adam', tol=0.0001, validation_fraction=0.1,\n",
              "       verbose=False, warm_start=False))])"
            ]
          },
          "metadata": {
            "tags": []
          },
          "execution_count": 68
        }
      ]
    },
    {
      "cell_type": "code",
      "metadata": {
        "id": "wyj2aCmy2UHg",
        "colab_type": "code",
        "outputId": "03314a1e-84a7-4e00-c692-014c86515286",
        "colab": {
          "base_uri": "https://localhost:8080/",
          "height": 255
        }
      },
      "source": [
        "pred = mlp_clf.predict(X_test)\n",
        "print(classification_report(y_test, pred, target_names=le.classes_))"
      ],
      "execution_count": 0,
      "outputs": [
        {
          "output_type": "stream",
          "text": [
            "                precision    recall  f1-score   support\n",
            "\n",
            "dokujo-tsushin       0.94      0.91      0.92       176\n",
            "  it-life-hack       0.98      0.96      0.97       139\n",
            " kaden-channel       0.98      0.93      0.95       178\n",
            "livedoor-homme       0.87      0.83      0.85        83\n",
            "   movie-enter       0.88      0.99      0.93       182\n",
            "        peachy       0.91      0.84      0.87       173\n",
            "          smax       0.97      0.99      0.98       182\n",
            "  sports-watch       0.95      0.99      0.97       191\n",
            "    topic-news       0.94      0.92      0.93       170\n",
            "\n",
            "   avg / total       0.94      0.94      0.94      1474\n",
            "\n"
          ],
          "name": "stdout"
        }
      ]
    },
    {
      "cell_type": "markdown",
      "metadata": {
        "id": "Jm4wV_bLyqNJ",
        "colab_type": "text"
      },
      "source": [
        "### 多変数ベルヌーイモデルをnumpyで実装\n",
        "まだfor文があり、不完全な実装で動作が遅いです。"
      ]
    },
    {
      "cell_type": "code",
      "metadata": {
        "id": "o0Vmo1CDvnEK",
        "colab_type": "code",
        "colab": {}
      },
      "source": [
        "import numpy as np\n",
        "\n",
        "from scipy.sparse import lil_matrix, csr_matrix\n",
        "\n",
        "\n",
        "class NaiveBayes(BaseEstimator, TransformerMixin):\n",
        "    def __init__(self):\n",
        "        self.vocabularies = None\n",
        "        self.categories = None\n",
        "        self.category_count = None\n",
        "        self.category_word_occurence = None\n",
        "        self.denominator = {}\n",
        "    \n",
        "    def fit(self, X, y):\n",
        "        self.vocabularies = np.unique(X)\n",
        "        self.categories, self.category_count = np.unique(y, return_counts=True)\n",
        "        \n",
        "        self.category_word_occurrence = lil_matrix((self.categories.shape[0], X.shape[1]))\n",
        "        for c in self.categories:\n",
        "            _y = y[y == c]\n",
        "            _X = X[y == c]\n",
        "            self.category_word_occurrence[c] = np.sum(_X, axis=0)\n",
        "        self.category_word_occurrence = self.category_word_occurrence.tocsr()\n",
        "        \n",
        "        # P(word | cat)の分母 Σ |(cat, word)| + |V|\n",
        "        for cat in self.categories:\n",
        "            self.denominator[cat] = np.sum(self.category_word_occurrence[cat]) + len(self.vocabularies)\n",
        "    \n",
        "    def word_prob(self, word, category):\n",
        "        \"\"\"P(word|cat)\"\"\"\n",
        "        return (self.category_word_occurrence[category, word]+1) / self.denominator[category]\n",
        "    \n",
        "    def score(self, doc, cat):\n",
        "        \"\"\"P(doc|cat)\"\"\"\n",
        "        sc = np.log(self.category_count[cat] / self.category_count.sum())\n",
        "        for word in doc.nonzero()[1]:\n",
        "            sc += np.log(self.word_prob(word, cat))\n",
        "        return sc\n",
        "    \n",
        "    def predict(self, X):\n",
        "        return np.array([self._predict(doc) for doc in X])\n",
        "    \n",
        "    def _predict(self, doc):\n",
        "        \"\"\"P(cat|doc)\"\"\"\n",
        "        return np.argmax(np.array([self.score(doc, cat) for cat in self.categories]))"
      ],
      "execution_count": 0,
      "outputs": []
    },
    {
      "cell_type": "code",
      "metadata": {
        "id": "P501PNDz0TEQ",
        "colab_type": "code",
        "colab": {}
      },
      "source": [
        "vectorizer = CountVectorizer()\n",
        "X_train_vec = vectorizer.fit_transform(X_train)"
      ],
      "execution_count": 0,
      "outputs": []
    },
    {
      "cell_type": "code",
      "metadata": {
        "id": "jTMLZ5Cz0Oo5",
        "colab_type": "code",
        "colab": {}
      },
      "source": [
        "nb_clf = NaiveBayes()\n",
        "nb_clf.fit(X_train_vec, y_train)"
      ],
      "execution_count": 0,
      "outputs": []
    },
    {
      "cell_type": "code",
      "metadata": {
        "id": "yDATXSGjc_Dc",
        "colab_type": "code",
        "colab": {}
      },
      "source": [
        "pred = nb_clf.predict(vectorizer.transform(X_test))\n",
        "print(classification_report(y_test, pred, target_names=le.classes_))"
      ],
      "execution_count": 0,
      "outputs": []
    },
    {
      "cell_type": "markdown",
      "metadata": {
        "id": "zCg_59jbeGHP",
        "colab_type": "text"
      },
      "source": [
        "## ルールベースの改善をしてみよう"
      ]
    },
    {
      "cell_type": "code",
      "metadata": {
        "id": "Htb1LzvQOLPH",
        "colab_type": "code",
        "outputId": "9bf2b51e-9d88-4431-d203-03598285e9ad",
        "colab": {
          "base_uri": "https://localhost:8080/",
          "height": 425
        }
      },
      "source": [
        "df.query(\"category == 'smax'\").head()"
      ],
      "execution_count": 0,
      "outputs": [
        {
          "output_type": "execute_result",
          "data": {
            "text/html": [
              "<div>\n",
              "<style scoped>\n",
              "    .dataframe tbody tr th:only-of-type {\n",
              "        vertical-align: middle;\n",
              "    }\n",
              "\n",
              "    .dataframe tbody tr th {\n",
              "        vertical-align: top;\n",
              "    }\n",
              "\n",
              "    .dataframe thead th {\n",
              "        text-align: right;\n",
              "    }\n",
              "</style>\n",
              "<table border=\"1\" class=\"dataframe\">\n",
              "  <thead>\n",
              "    <tr style=\"text-align: right;\">\n",
              "      <th></th>\n",
              "      <th>category</th>\n",
              "      <th>url</th>\n",
              "      <th>date</th>\n",
              "      <th>title</th>\n",
              "      <th>body</th>\n",
              "      <th>body_wakati</th>\n",
              "    </tr>\n",
              "  </thead>\n",
              "  <tbody>\n",
              "    <tr>\n",
              "      <th>5627</th>\n",
              "      <td>smax</td>\n",
              "      <td>http://news.livedoor.com/article/detail/6903954/</td>\n",
              "      <td>2012-08-30 05:55:00</td>\n",
              "      <td>Sony Mobile、端末下部にイルミネーションを備えた低価格帯モデル「Xperia J」を発表</td>\n",
              "      <td>ゼロから始めるスマートフォン\\nソニーモバイルコミュニケーションズは29日（現地時間）、ドイ...</td>\n",
              "      <td>ゼロ から 始める スマート フォン ソニーモバイルコミュニケーションズ は 29 日 （ ...</td>\n",
              "    </tr>\n",
              "    <tr>\n",
              "      <th>5628</th>\n",
              "      <td>smax</td>\n",
              "      <td>http://news.livedoor.com/article/detail/6559474/</td>\n",
              "      <td>2012-05-15 01:35:00</td>\n",
              "      <td>KDDI、au向けWiMAX対応Android 4.0 ICS搭載「ARROWS Z ISW...</td>\n",
              "      <td>クアッドコアCPU搭載スマートフォンが登場！\\nKDDIおよび沖縄セルラーは15日、この夏に...</td>\n",
              "      <td>クアッドコア CPU 搭載 スマートフォン が 登場 ！ KDDI および 沖縄 セルラー ...</td>\n",
              "    </tr>\n",
              "    <tr>\n",
              "      <th>5629</th>\n",
              "      <td>smax</td>\n",
              "      <td>http://news.livedoor.com/article/detail/6536595/</td>\n",
              "      <td>2012-05-07 22:55:00</td>\n",
              "      <td>ネコ好きはすぐにインストールしよう！天気、バッテリー残量、時間をニヤニヤしながらチェックでき...</td>\n",
              "      <td>とにかくキュートで可愛い名前がないネコ！\\nライブ壁紙はいろいろな種類がありますが、キュート...</td>\n",
              "      <td>とにかく キュート で 可愛い 名前 が ない ネコ ！ ライブ 壁紙 は いろいろ な 種...</td>\n",
              "    </tr>\n",
              "    <tr>\n",
              "      <th>5630</th>\n",
              "      <td>smax</td>\n",
              "      <td>http://news.livedoor.com/article/detail/6865709/</td>\n",
              "      <td>2012-08-18 00:55:00</td>\n",
              "      <td>ちっちゃカワイイ仕草がぱないの！Android向けデスクトップマスコットLiplisに「忍野...</td>\n",
              "      <td>Android対応のデスクトップマスコットLiplisに＜物語＞シリーズのキャラクター忍野忍...</td>\n",
              "      <td>Android 対応 の デスク トップ マスコット Liplis に ＜ 物語 ＞ シリー...</td>\n",
              "    </tr>\n",
              "    <tr>\n",
              "      <th>5631</th>\n",
              "      <td>smax</td>\n",
              "      <td>http://news.livedoor.com/article/detail/6581246/</td>\n",
              "      <td>2012-05-22 00:55:00</td>\n",
              "      <td>東京新名所誕生！「東京スカイツリー周辺散策ガイド（Getting around TokyoS...</td>\n",
              "      <td>スカイツリー周辺ガイドでチェックしよう！\\n本日22日（火）に東京スカイツリーがOPENしま...</td>\n",
              "      <td>スカイ ツリー 周辺 ガイド で チェック しよ う ！ 本日 22 日 （ 火 ） に 東...</td>\n",
              "    </tr>\n",
              "  </tbody>\n",
              "</table>\n",
              "</div>"
            ],
            "text/plain": [
              "     category                                               url  \\\n",
              "5627     smax  http://news.livedoor.com/article/detail/6903954/   \n",
              "5628     smax  http://news.livedoor.com/article/detail/6559474/   \n",
              "5629     smax  http://news.livedoor.com/article/detail/6536595/   \n",
              "5630     smax  http://news.livedoor.com/article/detail/6865709/   \n",
              "5631     smax  http://news.livedoor.com/article/detail/6581246/   \n",
              "\n",
              "                    date                                              title  \\\n",
              "5627 2012-08-30 05:55:00  Sony Mobile、端末下部にイルミネーションを備えた低価格帯モデル「Xperia J」を発表   \n",
              "5628 2012-05-15 01:35:00  KDDI、au向けWiMAX対応Android 4.0 ICS搭載「ARROWS Z ISW...   \n",
              "5629 2012-05-07 22:55:00  ネコ好きはすぐにインストールしよう！天気、バッテリー残量、時間をニヤニヤしながらチェックでき...   \n",
              "5630 2012-08-18 00:55:00  ちっちゃカワイイ仕草がぱないの！Android向けデスクトップマスコットLiplisに「忍野...   \n",
              "5631 2012-05-22 00:55:00  東京新名所誕生！「東京スカイツリー周辺散策ガイド（Getting around TokyoS...   \n",
              "\n",
              "                                                   body  \\\n",
              "5627  ゼロから始めるスマートフォン\\nソニーモバイルコミュニケーションズは29日（現地時間）、ドイ...   \n",
              "5628  クアッドコアCPU搭載スマートフォンが登場！\\nKDDIおよび沖縄セルラーは15日、この夏に...   \n",
              "5629  とにかくキュートで可愛い名前がないネコ！\\nライブ壁紙はいろいろな種類がありますが、キュート...   \n",
              "5630  Android対応のデスクトップマスコットLiplisに＜物語＞シリーズのキャラクター忍野忍...   \n",
              "5631  スカイツリー周辺ガイドでチェックしよう！\\n本日22日（火）に東京スカイツリーがOPENしま...   \n",
              "\n",
              "                                            body_wakati  \n",
              "5627  ゼロ から 始める スマート フォン ソニーモバイルコミュニケーションズ は 29 日 （ ...  \n",
              "5628  クアッドコア CPU 搭載 スマートフォン が 登場 ！ KDDI および 沖縄 セルラー ...  \n",
              "5629  とにかく キュート で 可愛い 名前 が ない ネコ ！ ライブ 壁紙 は いろいろ な 種...  \n",
              "5630  Android 対応 の デスク トップ マスコット Liplis に ＜ 物語 ＞ シリー...  \n",
              "5631  スカイ ツリー 周辺 ガイド で チェック しよ う ！ 本日 22 日 （ 火 ） に 東...  "
            ]
          },
          "metadata": {
            "tags": []
          },
          "execution_count": 73
        }
      ]
    },
    {
      "cell_type": "code",
      "metadata": {
        "id": "BrD4vKIqSNqV",
        "colab_type": "code",
        "colab": {}
      },
      "source": [
        "# scikit-learnのBaseEstimatorとTransformerMixinを継承することで、scikit-learn互換のクラスを作りやすくする\n",
        "class RulebasedEstimator(BaseEstimator, TransformerMixin):\n",
        "    def __init__(self, label_encoder):\n",
        "        self.le = label_encoder\n",
        "  \n",
        "    def fit(self, X, y):\n",
        "        return self\n",
        "\n",
        "    def predict(self, X):\n",
        "        \"\"\"ルールを記述\"\"\"\n",
        "        result = []\n",
        "        for text in X:\n",
        "            pred = 0\n",
        "            if re.search(r\"(スポーツ|サッカー)\", text):\n",
        "                pred = self.le.transform([\"sports-watch\"])[0]\n",
        "            elif re.search(r\"(独女|悩み|ブライド|サプライズ)\", text):\n",
        "                pred = self.le.transform([\"dokujo-tsushin\"])[0]\n",
        "            elif re.search(r\"(Mac|PC|IT|インテル|SSD|CPU)\", text):\n",
        "                pred = self.le.transform([\"it-life-hack\"])[0]\n",
        "            elif re.search(r\"(電力|冷蔵庫|扇風機|家電|熱中症)\", text):\n",
        "                pred = self.le.transform([\"kaden-channel\"])[0]\n",
        "            elif re.search(r\"(店|店舗|マラソン|スポーツ)\", text):\n",
        "                pred = self.le.transform([\"livedoor-homme\"])[0]\n",
        "            elif re.search(r\"(映画|芸能|リアクション|公開)\", text):\n",
        "                pred = self.le.transform([\"movie-enter\"])[0]\n",
        "            elif re.search(r\"(食べ物|菓子|ごはん|ワイン|カフェ)\", text):\n",
        "                pred = self.le.transform([\"peachy\"])[0]\n",
        "            elif re.search(r\"(ゲーム|スマホ)\", text):\n",
        "                pred = self.le.transform([\"smax\"])[0]\n",
        "            elif re.search(r\"(メダル|プレー)\", text):\n",
        "                pred = self.le.transform([\"sports-watch\"])[0]\n",
        "            elif re.search(r\"(テレビ|ジャーナリスト)\", text):\n",
        "                pred = self.le.transform([\"topic-news\"])[0]\n",
        "\n",
        "            result.append(pred)\n",
        "        return result"
      ],
      "execution_count": 0,
      "outputs": []
    },
    {
      "cell_type": "code",
      "metadata": {
        "id": "kYTL7vWredUt",
        "colab_type": "code",
        "colab": {}
      },
      "source": [
        "rulebased = RulebasedEstimator(label_encoder=le)\n",
        "rulebased_pred = rulebased.predict(X_test)\n",
        "print(classification_report(y_test, rulebased_pred, target_names=le.classes_))"
      ],
      "execution_count": 0,
      "outputs": []
    },
    {
      "cell_type": "code",
      "metadata": {
        "id": "4ABbPM-Eoiam",
        "colab_type": "code",
        "colab": {}
      },
      "source": [
        ""
      ],
      "execution_count": 0,
      "outputs": []
    }
  ]
}